{
 "cells": [
  {
   "cell_type": "code",
   "execution_count": 8,
   "metadata": {
    "id": "euOTDlRtwfi8"
   },
   "outputs": [
    {
     "name": "stdout",
     "output_type": "stream",
     "text": [
      "Thu Jun  9 14:43:03 2022       \n",
      "+-----------------------------------------------------------------------------+\n",
      "| NVIDIA-SMI 510.73.05    Driver Version: 510.73.05    CUDA Version: 11.6     |\n",
      "|-------------------------------+----------------------+----------------------+\n",
      "| GPU  Name        Persistence-M| Bus-Id        Disp.A | Volatile Uncorr. ECC |\n",
      "| Fan  Temp  Perf  Pwr:Usage/Cap|         Memory-Usage | GPU-Util  Compute M. |\n",
      "|                               |                      |               MIG M. |\n",
      "|===============================+======================+======================|\n",
      "|   0  NVIDIA GeForce ...  Off  | 00000000:01:00.0  On |                  N/A |\n",
      "| 25%   38C    P2    27W / 120W |    619MiB /  6144MiB |      0%      Default |\n",
      "|                               |                      |                  N/A |\n",
      "+-------------------------------+----------------------+----------------------+\n",
      "                                                                               \n",
      "+-----------------------------------------------------------------------------+\n",
      "| Processes:                                                                  |\n",
      "|  GPU   GI   CI        PID   Type   Process name                  GPU Memory |\n",
      "|        ID   ID                                                   Usage      |\n",
      "|=============================================================================|\n",
      "|    0   N/A  N/A       787      G   /usr/lib/xorg/Xorg                226MiB |\n",
      "|    0   N/A  N/A      1342      G   kwin_x11                           27MiB |\n",
      "|    0   N/A  N/A      1346      G   /usr/bin/krunner                    1MiB |\n",
      "|    0   N/A  N/A      1348      G   /usr/bin/plasmashell               58MiB |\n",
      "|    0   N/A  N/A      1880      G   ...728333889679955863,131072       81MiB |\n",
      "|    0   N/A  N/A     23647      C   ...onda3/envs/env/bin/python      215MiB |\n",
      "+-----------------------------------------------------------------------------+\n"
     ]
    },
    {
     "ename": "ModuleNotFoundError",
     "evalue": "No module named 'psutil'",
     "output_type": "error",
     "traceback": [
      "\u001b[0;31m---------------------------------------------------------------------------\u001b[0m",
      "\u001b[0;31mModuleNotFoundError\u001b[0m                       Traceback (most recent call last)",
      "Input \u001b[0;32mIn [8]\u001b[0m, in \u001b[0;36m<cell line: 13>\u001b[0;34m()\u001b[0m\n\u001b[1;32m     10\u001b[0m     \u001b[38;5;28mprint\u001b[39m(gpu_info)\n\u001b[1;32m     12\u001b[0m \u001b[38;5;66;03m# Virtual Memory\u001b[39;00m\n\u001b[0;32m---> 13\u001b[0m \u001b[38;5;28;01mfrom\u001b[39;00m \u001b[38;5;21;01mpsutil\u001b[39;00m \u001b[38;5;28;01mimport\u001b[39;00m virtual_memory\n\u001b[1;32m     14\u001b[0m ram_gb \u001b[38;5;241m=\u001b[39m virtual_memory()\u001b[38;5;241m.\u001b[39mtotal \u001b[38;5;241m/\u001b[39m \u001b[38;5;241m1e9\u001b[39m\n\u001b[1;32m     15\u001b[0m \u001b[38;5;28mprint\u001b[39m(\u001b[38;5;124m'\u001b[39m\u001b[38;5;124mYour runtime has \u001b[39m\u001b[38;5;132;01m{:.1f}\u001b[39;00m\u001b[38;5;124m gigabytes of available RAM\u001b[39m\u001b[38;5;130;01m\\n\u001b[39;00m\u001b[38;5;124m'\u001b[39m\u001b[38;5;241m.\u001b[39mformat(ram_gb))\n",
      "\u001b[0;31mModuleNotFoundError\u001b[0m: No module named 'psutil'"
     ]
    }
   ],
   "source": [
    "# from google.colab import drive\n",
    "# drive.mount('/content/drive')\n",
    "\n",
    "# Print out GPU info\n",
    "gpu_info = !nvidia-smi\n",
    "gpu_info = '\\n'.join(gpu_info)\n",
    "if gpu_info.find('failed') >= 0:\n",
    "    print('Not connected to a GPU')\n",
    "else:\n",
    "    print(gpu_info)\n",
    "\n",
    "# Virtual Memory\n",
    "from psutil import virtual_memory\n",
    "ram_gb = virtual_memory().total / 1e9\n",
    "print('Your runtime has {:.1f} gigabytes of available RAM\\n'.format(ram_gb))\n"
   ]
  },
  {
   "cell_type": "code",
   "execution_count": null,
   "metadata": {
    "id": "U_snwtbeUijM"
   },
   "outputs": [],
   "source": [
    "cd /content/drive/MyDrive/Thesis"
   ]
  },
  {
   "cell_type": "code",
   "execution_count": null,
   "metadata": {
    "id": "0mKLl2YWnLRD"
   },
   "outputs": [],
   "source": [
    "!git clone https://github.com/kchare/advex_notbugs_features.git"
   ]
  },
  {
   "cell_type": "code",
   "execution_count": null,
   "metadata": {
    "id": "O9YhlE2gnRIJ"
   },
   "outputs": [],
   "source": [
    "# !pip install tensorflow-addons\n",
    "!pip install -U segmentation-models"
   ]
  },
  {
   "cell_type": "code",
   "execution_count": null,
   "metadata": {
    "id": "kygSv6Qr6IRR"
   },
   "outputs": [],
   "source": [
    "!python --version"
   ]
  },
  {
   "cell_type": "code",
   "execution_count": 9,
   "metadata": {
    "id": "ZSSOg9hSnVha"
   },
   "outputs": [
    {
     "name": "stdout",
     "output_type": "stream",
     "text": [
      "Tensorflow ver. 2.9.1\n"
     ]
    }
   ],
   "source": [
    "\n",
    "# for data load\n",
    "import os\n",
    "\n",
    "# for reading and processing images\n",
    "import imageio\n",
    "from PIL import Image, ImageOps\n",
    "\n",
    "# for visualizations\n",
    "import matplotlib.pyplot as plt\n",
    "\n",
    "import numpy as np # for using np arrays\n",
    "\n",
    "# for bulding and running deep learning model\n",
    "import tensorflow as tf\n",
    "from tensorflow.keras.layers import Input\n",
    "from tensorflow.keras.layers import Conv2D\n",
    "from tensorflow.keras.layers import MaxPooling2D\n",
    "from tensorflow.keras.layers import Dropout \n",
    "from tensorflow.keras.layers import BatchNormalization\n",
    "from tensorflow.keras.layers import Conv2DTranspose\n",
    "from tensorflow.keras.layers import concatenate\n",
    "from tensorflow.keras.losses import binary_crossentropy\n",
    "from sklearn.model_selection import train_test_split\n",
    "\n",
    "\n",
    "from tensorflow import keras as K\n",
    "# import tensorflow_datasets as tfds\n",
    "\n",
    "print(f\"Tensorflow ver. {tf.__version__}\")\n",
    "\n",
    "\n",
    "from tensorflow.keras.utils import get_source_inputs\n",
    "import numpy as np\n",
    "import scipy.stats as sp\n",
    "import matplotlib.pyplot as plt\n",
    "import pandas as pd\n",
    "import time\n",
    "# SM_FRAMEWORK=K\n",
    "SM_FRAMEWORK=tf.keras\n",
    "import segmentation_models as sm\n",
    "sm.set_framework('tf.keras')\n",
    "K.backend.set_image_data_format('channels_last')\n",
    "seed=25\n",
    "np.random.seed(25)\n",
    "AUTOTUNE = tf.data.AUTOTUNE"
   ]
  },
  {
   "cell_type": "code",
   "execution_count": 10,
   "metadata": {
    "id": "C9_YAoJD65iY"
   },
   "outputs": [
    {
     "name": "stderr",
     "output_type": "stream",
     "text": [
      "2022-06-09 14:43:22.076667: W tensorflow/core/common_runtime/bfc_allocator.cc:479] Allocator (GPU_0_bfc) ran out of memory trying to allocate 2.25MiB (rounded to 2359296)requested by op Mul\n",
      "If the cause is memory fragmentation maybe the environment variable 'TF_GPU_ALLOCATOR=cuda_malloc_async' will improve the situation. \n",
      "Current allocation summary follows.\n",
      "Current allocation summary follows.\n",
      "2022-06-09 14:43:22.076707: I tensorflow/core/common_runtime/bfc_allocator.cc:1027] BFCAllocator dump for GPU_0_bfc\n",
      "2022-06-09 14:43:22.076719: I tensorflow/core/common_runtime/bfc_allocator.cc:1034] Bin (256): \tTotal Chunks: 95, Chunks in use: 95. 23.8KiB allocated for chunks. 23.8KiB in use in bin. 16.2KiB client-requested in use in bin.\n",
      "2022-06-09 14:43:22.076728: I tensorflow/core/common_runtime/bfc_allocator.cc:1034] Bin (512): \tTotal Chunks: 64, Chunks in use: 64. 32.2KiB allocated for chunks. 32.2KiB in use in bin. 32.0KiB client-requested in use in bin.\n",
      "2022-06-09 14:43:22.076736: I tensorflow/core/common_runtime/bfc_allocator.cc:1034] Bin (1024): \tTotal Chunks: 73, Chunks in use: 73. 73.2KiB allocated for chunks. 73.2KiB in use in bin. 73.0KiB client-requested in use in bin.\n",
      "2022-06-09 14:43:22.076744: I tensorflow/core/common_runtime/bfc_allocator.cc:1034] Bin (2048): \tTotal Chunks: 32, Chunks in use: 32. 64.0KiB allocated for chunks. 64.0KiB in use in bin. 64.0KiB client-requested in use in bin.\n",
      "2022-06-09 14:43:22.076751: I tensorflow/core/common_runtime/bfc_allocator.cc:1034] Bin (4096): \tTotal Chunks: 20, Chunks in use: 20. 82.5KiB allocated for chunks. 82.5KiB in use in bin. 80.0KiB client-requested in use in bin.\n",
      "2022-06-09 14:43:22.076759: I tensorflow/core/common_runtime/bfc_allocator.cc:1034] Bin (8192): \tTotal Chunks: 0, Chunks in use: 0. 0B allocated for chunks. 0B in use in bin. 0B client-requested in use in bin.\n",
      "2022-06-09 14:43:22.076767: I tensorflow/core/common_runtime/bfc_allocator.cc:1034] Bin (16384): \tTotal Chunks: 2, Chunks in use: 2. 32.0KiB allocated for chunks. 32.0KiB in use in bin. 32.0KiB client-requested in use in bin.\n",
      "2022-06-09 14:43:22.076775: I tensorflow/core/common_runtime/bfc_allocator.cc:1034] Bin (32768): \tTotal Chunks: 2, Chunks in use: 2. 73.5KiB allocated for chunks. 73.5KiB in use in bin. 73.5KiB client-requested in use in bin.\n",
      "2022-06-09 14:43:22.076783: I tensorflow/core/common_runtime/bfc_allocator.cc:1034] Bin (65536): \tTotal Chunks: 14, Chunks in use: 12. 1.04MiB allocated for chunks. 880.0KiB in use in bin. 768.0KiB client-requested in use in bin.\n",
      "2022-06-09 14:43:22.076794: I tensorflow/core/common_runtime/bfc_allocator.cc:1034] Bin (131072): \tTotal Chunks: 9, Chunks in use: 8. 1.33MiB allocated for chunks. 1.09MiB in use in bin. 1.09MiB client-requested in use in bin.\n",
      "2022-06-09 14:43:22.076803: I tensorflow/core/common_runtime/bfc_allocator.cc:1034] Bin (262144): \tTotal Chunks: 16, Chunks in use: 14. 4.25MiB allocated for chunks. 3.75MiB in use in bin. 3.50MiB client-requested in use in bin.\n",
      "2022-06-09 14:43:22.076811: I tensorflow/core/common_runtime/bfc_allocator.cc:1034] Bin (524288): \tTotal Chunks: 14, Chunks in use: 12. 8.06MiB allocated for chunks. 6.62MiB in use in bin. 6.50MiB client-requested in use in bin.\n",
      "2022-06-09 14:43:22.076819: I tensorflow/core/common_runtime/bfc_allocator.cc:1034] Bin (1048576): \tTotal Chunks: 13, Chunks in use: 10. 14.25MiB allocated for chunks. 10.50MiB in use in bin. 10.00MiB client-requested in use in bin.\n",
      "2022-06-09 14:43:22.076827: I tensorflow/core/common_runtime/bfc_allocator.cc:1034] Bin (2097152): \tTotal Chunks: 9, Chunks in use: 9. 21.14MiB allocated for chunks. 21.14MiB in use in bin. 19.75MiB client-requested in use in bin.\n",
      "2022-06-09 14:43:22.076834: I tensorflow/core/common_runtime/bfc_allocator.cc:1034] Bin (4194304): \tTotal Chunks: 0, Chunks in use: 0. 0B allocated for chunks. 0B in use in bin. 0B client-requested in use in bin.\n",
      "2022-06-09 14:43:22.076841: I tensorflow/core/common_runtime/bfc_allocator.cc:1034] Bin (8388608): \tTotal Chunks: 0, Chunks in use: 0. 0B allocated for chunks. 0B in use in bin. 0B client-requested in use in bin.\n",
      "2022-06-09 14:43:22.076848: I tensorflow/core/common_runtime/bfc_allocator.cc:1034] Bin (16777216): \tTotal Chunks: 0, Chunks in use: 0. 0B allocated for chunks. 0B in use in bin. 0B client-requested in use in bin.\n",
      "2022-06-09 14:43:22.076855: I tensorflow/core/common_runtime/bfc_allocator.cc:1034] Bin (33554432): \tTotal Chunks: 0, Chunks in use: 0. 0B allocated for chunks. 0B in use in bin. 0B client-requested in use in bin.\n",
      "2022-06-09 14:43:22.076862: I tensorflow/core/common_runtime/bfc_allocator.cc:1034] Bin (67108864): \tTotal Chunks: 0, Chunks in use: 0. 0B allocated for chunks. 0B in use in bin. 0B client-requested in use in bin.\n",
      "2022-06-09 14:43:22.076869: I tensorflow/core/common_runtime/bfc_allocator.cc:1034] Bin (134217728): \tTotal Chunks: 0, Chunks in use: 0. 0B allocated for chunks. 0B in use in bin. 0B client-requested in use in bin.\n",
      "2022-06-09 14:43:22.076876: I tensorflow/core/common_runtime/bfc_allocator.cc:1034] Bin (268435456): \tTotal Chunks: 0, Chunks in use: 0. 0B allocated for chunks. 0B in use in bin. 0B client-requested in use in bin.\n",
      "2022-06-09 14:43:22.076884: I tensorflow/core/common_runtime/bfc_allocator.cc:1050] Bin for 2.25MiB was 2.00MiB, Chunk State: \n",
      "2022-06-09 14:43:22.076890: I tensorflow/core/common_runtime/bfc_allocator.cc:1063] Next region of size 31229952\n",
      "2022-06-09 14:43:22.076900: I tensorflow/core/common_runtime/bfc_allocator.cc:1083] InUse at 7f9196000000 of size 256 next 1\n",
      "2022-06-09 14:43:22.076908: I tensorflow/core/common_runtime/bfc_allocator.cc:1083] InUse at 7f9196000100 of size 1280 next 2\n",
      "2022-06-09 14:43:22.076915: I tensorflow/core/common_runtime/bfc_allocator.cc:1083] InUse at 7f9196000600 of size 256 next 3\n",
      "2022-06-09 14:43:22.076921: I tensorflow/core/common_runtime/bfc_allocator.cc:1083] InUse at 7f9196000700 of size 256 next 4\n",
      "2022-06-09 14:43:22.076927: I tensorflow/core/common_runtime/bfc_allocator.cc:1083] InUse at 7f9196000800 of size 256 next 5\n",
      "2022-06-09 14:43:22.076934: I tensorflow/core/common_runtime/bfc_allocator.cc:1083] InUse at 7f9196000900 of size 256 next 6\n",
      "2022-06-09 14:43:22.076940: I tensorflow/core/common_runtime/bfc_allocator.cc:1083] InUse at 7f9196000a00 of size 256 next 7\n",
      "2022-06-09 14:43:22.076946: I tensorflow/core/common_runtime/bfc_allocator.cc:1083] InUse at 7f9196000b00 of size 256 next 8\n",
      "2022-06-09 14:43:22.076952: I tensorflow/core/common_runtime/bfc_allocator.cc:1083] InUse at 7f9196000c00 of size 256 next 9\n",
      "2022-06-09 14:43:22.076958: I tensorflow/core/common_runtime/bfc_allocator.cc:1083] InUse at 7f9196000d00 of size 256 next 10\n",
      "2022-06-09 14:43:22.076965: I tensorflow/core/common_runtime/bfc_allocator.cc:1083] InUse at 7f9196000e00 of size 256 next 11\n",
      "2022-06-09 14:43:22.076971: I tensorflow/core/common_runtime/bfc_allocator.cc:1083] InUse at 7f9196000f00 of size 256 next 12\n",
      "2022-06-09 14:43:22.076977: I tensorflow/core/common_runtime/bfc_allocator.cc:1083] InUse at 7f9196001000 of size 256 next 15\n",
      "2022-06-09 14:43:22.076983: I tensorflow/core/common_runtime/bfc_allocator.cc:1083] InUse at 7f9196001100 of size 256 next 16\n",
      "2022-06-09 14:43:22.076990: I tensorflow/core/common_runtime/bfc_allocator.cc:1083] InUse at 7f9196001200 of size 256 next 17\n",
      "2022-06-09 14:43:22.076998: I tensorflow/core/common_runtime/bfc_allocator.cc:1083] InUse at 7f9196001300 of size 256 next 18\n",
      "2022-06-09 14:43:22.077007: I tensorflow/core/common_runtime/bfc_allocator.cc:1083] InUse at 7f9196001400 of size 256 next 19\n",
      "2022-06-09 14:43:22.077014: I tensorflow/core/common_runtime/bfc_allocator.cc:1083] InUse at 7f9196001500 of size 256 next 20\n",
      "2022-06-09 14:43:22.077023: I tensorflow/core/common_runtime/bfc_allocator.cc:1083] InUse at 7f9196001600 of size 256 next 21\n",
      "2022-06-09 14:43:22.077031: I tensorflow/core/common_runtime/bfc_allocator.cc:1083] InUse at 7f9196001700 of size 256 next 22\n",
      "2022-06-09 14:43:22.077037: I tensorflow/core/common_runtime/bfc_allocator.cc:1083] InUse at 7f9196001800 of size 4096 next 184\n",
      "2022-06-09 14:43:22.077044: I tensorflow/core/common_runtime/bfc_allocator.cc:1083] InUse at 7f9196002800 of size 4096 next 185\n",
      "2022-06-09 14:43:22.077050: I tensorflow/core/common_runtime/bfc_allocator.cc:1083] InUse at 7f9196003800 of size 1024 next 187\n",
      "2022-06-09 14:43:22.077057: I tensorflow/core/common_runtime/bfc_allocator.cc:1083] InUse at 7f9196003c00 of size 1024 next 188\n",
      "2022-06-09 14:43:22.077064: I tensorflow/core/common_runtime/bfc_allocator.cc:1083] InUse at 7f9196004000 of size 1024 next 189\n",
      "2022-06-09 14:43:22.077070: I tensorflow/core/common_runtime/bfc_allocator.cc:1083] InUse at 7f9196004400 of size 1024 next 190\n",
      "2022-06-09 14:43:22.077077: I tensorflow/core/common_runtime/bfc_allocator.cc:1083] InUse at 7f9196004800 of size 1024 next 191\n",
      "2022-06-09 14:43:22.077083: I tensorflow/core/common_runtime/bfc_allocator.cc:1083] InUse at 7f9196004c00 of size 1024 next 193\n",
      "2022-06-09 14:43:22.077089: I tensorflow/core/common_runtime/bfc_allocator.cc:1083] InUse at 7f9196005000 of size 1024 next 194\n",
      "2022-06-09 14:43:22.077095: I tensorflow/core/common_runtime/bfc_allocator.cc:1083] InUse at 7f9196005400 of size 1024 next 195\n",
      "2022-06-09 14:43:22.077101: I tensorflow/core/common_runtime/bfc_allocator.cc:1083] InUse at 7f9196005800 of size 4096 next 197\n",
      "2022-06-09 14:43:22.077108: I tensorflow/core/common_runtime/bfc_allocator.cc:1083] InUse at 7f9196006800 of size 4096 next 198\n",
      "2022-06-09 14:43:22.077114: I tensorflow/core/common_runtime/bfc_allocator.cc:1083] InUse at 7f9196007800 of size 4096 next 199\n",
      "2022-06-09 14:43:22.077120: I tensorflow/core/common_runtime/bfc_allocator.cc:1083] InUse at 7f9196008800 of size 4096 next 200\n",
      "2022-06-09 14:43:22.077131: I tensorflow/core/common_runtime/bfc_allocator.cc:1083] InUse at 7f9196009800 of size 1024 next 201\n",
      "2022-06-09 14:43:22.077137: I tensorflow/core/common_runtime/bfc_allocator.cc:1083] InUse at 7f9196009c00 of size 1024 next 202\n",
      "2022-06-09 14:43:22.077144: I tensorflow/core/common_runtime/bfc_allocator.cc:1083] InUse at 7f919600a000 of size 1024 next 203\n",
      "2022-06-09 14:43:22.077150: I tensorflow/core/common_runtime/bfc_allocator.cc:1083] InUse at 7f919600a400 of size 1024 next 204\n",
      "2022-06-09 14:43:22.077156: I tensorflow/core/common_runtime/bfc_allocator.cc:1083] InUse at 7f919600a800 of size 256 next 205\n",
      "2022-06-09 14:43:22.077162: I tensorflow/core/common_runtime/bfc_allocator.cc:1083] InUse at 7f919600a900 of size 256 next 206\n",
      "2022-06-09 14:43:22.077169: I tensorflow/core/common_runtime/bfc_allocator.cc:1083] InUse at 7f919600aa00 of size 256 next 207\n",
      "2022-06-09 14:43:22.077175: I tensorflow/core/common_runtime/bfc_allocator.cc:1083] InUse at 7f919600ab00 of size 256 next 208\n",
      "2022-06-09 14:43:22.077181: I tensorflow/core/common_runtime/bfc_allocator.cc:1083] InUse at 7f919600ac00 of size 256 next 209\n",
      "2022-06-09 14:43:22.077187: I tensorflow/core/common_runtime/bfc_allocator.cc:1083] InUse at 7f919600ad00 of size 256 next 210\n",
      "2022-06-09 14:43:22.077194: I tensorflow/core/common_runtime/bfc_allocator.cc:1083] InUse at 7f919600ae00 of size 256 next 212\n",
      "2022-06-09 14:43:22.077203: I tensorflow/core/common_runtime/bfc_allocator.cc:1083] InUse at 7f919600af00 of size 256 next 213\n",
      "2022-06-09 14:43:22.077211: I tensorflow/core/common_runtime/bfc_allocator.cc:1083] InUse at 7f919600b000 of size 256 next 214\n",
      "2022-06-09 14:43:22.077217: I tensorflow/core/common_runtime/bfc_allocator.cc:1083] InUse at 7f919600b100 of size 256 next 215\n",
      "2022-06-09 14:43:22.077223: I tensorflow/core/common_runtime/bfc_allocator.cc:1083] InUse at 7f919600b200 of size 256 next 216\n",
      "2022-06-09 14:43:22.077229: I tensorflow/core/common_runtime/bfc_allocator.cc:1083] InUse at 7f919600b300 of size 256 next 217\n",
      "2022-06-09 14:43:22.077236: I tensorflow/core/common_runtime/bfc_allocator.cc:1083] InUse at 7f919600b400 of size 256 next 218\n",
      "2022-06-09 14:43:22.077242: I tensorflow/core/common_runtime/bfc_allocator.cc:1083] InUse at 7f919600b500 of size 256 next 222\n",
      "2022-06-09 14:43:22.077249: I tensorflow/core/common_runtime/bfc_allocator.cc:1083] InUse at 7f919600b600 of size 256 next 221\n",
      "2022-06-09 14:43:22.077260: I tensorflow/core/common_runtime/bfc_allocator.cc:1083] InUse at 7f919600b700 of size 256 next 223\n",
      "2022-06-09 14:43:22.077266: I tensorflow/core/common_runtime/bfc_allocator.cc:1083] InUse at 7f919600b800 of size 256 next 224\n",
      "2022-06-09 14:43:22.077272: I tensorflow/core/common_runtime/bfc_allocator.cc:1083] InUse at 7f919600b900 of size 256 next 226\n",
      "2022-06-09 14:43:22.077279: I tensorflow/core/common_runtime/bfc_allocator.cc:1083] InUse at 7f919600ba00 of size 256 next 227\n",
      "2022-06-09 14:43:22.077285: I tensorflow/core/common_runtime/bfc_allocator.cc:1083] InUse at 7f919600bb00 of size 256 next 228\n",
      "2022-06-09 14:43:22.077292: I tensorflow/core/common_runtime/bfc_allocator.cc:1083] InUse at 7f919600bc00 of size 256 next 229\n",
      "2022-06-09 14:43:22.077303: I tensorflow/core/common_runtime/bfc_allocator.cc:1083] InUse at 7f919600bd00 of size 1024 next 231\n",
      "2022-06-09 14:43:22.077309: I tensorflow/core/common_runtime/bfc_allocator.cc:1083] InUse at 7f919600c100 of size 1024 next 232\n",
      "2022-06-09 14:43:22.077316: I tensorflow/core/common_runtime/bfc_allocator.cc:1083] InUse at 7f919600c500 of size 1024 next 233\n",
      "2022-06-09 14:43:22.077322: I tensorflow/core/common_runtime/bfc_allocator.cc:1083] InUse at 7f919600c900 of size 1024 next 234\n",
      "2022-06-09 14:43:22.077328: I tensorflow/core/common_runtime/bfc_allocator.cc:1083] InUse at 7f919600cd00 of size 256 next 235\n",
      "2022-06-09 14:43:22.077335: I tensorflow/core/common_runtime/bfc_allocator.cc:1083] InUse at 7f919600ce00 of size 256 next 236\n",
      "2022-06-09 14:43:22.077345: I tensorflow/core/common_runtime/bfc_allocator.cc:1083] InUse at 7f919600cf00 of size 256 next 237\n",
      "2022-06-09 14:43:22.077351: I tensorflow/core/common_runtime/bfc_allocator.cc:1083] InUse at 7f919600d000 of size 256 next 238\n",
      "2022-06-09 14:43:22.077357: I tensorflow/core/common_runtime/bfc_allocator.cc:1083] InUse at 7f919600d100 of size 256 next 240\n",
      "2022-06-09 14:43:22.077363: I tensorflow/core/common_runtime/bfc_allocator.cc:1083] InUse at 7f919600d200 of size 256 next 241\n",
      "2022-06-09 14:43:22.077370: I tensorflow/core/common_runtime/bfc_allocator.cc:1083] InUse at 7f919600d300 of size 256 next 242\n",
      "2022-06-09 14:43:22.077380: I tensorflow/core/common_runtime/bfc_allocator.cc:1083] InUse at 7f919600d400 of size 256 next 243\n",
      "2022-06-09 14:43:22.077387: I tensorflow/core/common_runtime/bfc_allocator.cc:1083] InUse at 7f919600d500 of size 1024 next 245\n",
      "2022-06-09 14:43:22.077393: I tensorflow/core/common_runtime/bfc_allocator.cc:1083] InUse at 7f919600d900 of size 1024 next 246\n",
      "2022-06-09 14:43:22.077400: I tensorflow/core/common_runtime/bfc_allocator.cc:1083] InUse at 7f919600dd00 of size 1024 next 247\n",
      "2022-06-09 14:43:22.077410: I tensorflow/core/common_runtime/bfc_allocator.cc:1083] InUse at 7f919600e100 of size 1024 next 248\n",
      "2022-06-09 14:43:22.077417: I tensorflow/core/common_runtime/bfc_allocator.cc:1083] InUse at 7f919600e500 of size 256 next 249\n",
      "2022-06-09 14:43:22.077423: I tensorflow/core/common_runtime/bfc_allocator.cc:1083] InUse at 7f919600e600 of size 256 next 250\n",
      "2022-06-09 14:43:22.077430: I tensorflow/core/common_runtime/bfc_allocator.cc:1083] InUse at 7f919600e700 of size 256 next 251\n",
      "2022-06-09 14:43:22.077440: I tensorflow/core/common_runtime/bfc_allocator.cc:1083] InUse at 7f919600e800 of size 256 next 252\n",
      "2022-06-09 14:43:22.077446: I tensorflow/core/common_runtime/bfc_allocator.cc:1083] InUse at 7f919600e900 of size 256 next 254\n",
      "2022-06-09 14:43:22.077453: I tensorflow/core/common_runtime/bfc_allocator.cc:1083] InUse at 7f919600ea00 of size 256 next 255\n",
      "2022-06-09 14:43:22.077459: I tensorflow/core/common_runtime/bfc_allocator.cc:1083] InUse at 7f919600eb00 of size 256 next 256\n",
      "2022-06-09 14:43:22.077467: I tensorflow/core/common_runtime/bfc_allocator.cc:1083] InUse at 7f919600ec00 of size 256 next 257\n",
      "2022-06-09 14:43:22.077475: I tensorflow/core/common_runtime/bfc_allocator.cc:1083] InUse at 7f919600ed00 of size 1024 next 259\n",
      "2022-06-09 14:43:22.077482: I tensorflow/core/common_runtime/bfc_allocator.cc:1083] InUse at 7f919600f100 of size 1024 next 220\n",
      "2022-06-09 14:43:22.077488: I tensorflow/core/common_runtime/bfc_allocator.cc:1083] InUse at 7f919600f500 of size 16384 next 13\n",
      "2022-06-09 14:43:22.077495: I tensorflow/core/common_runtime/bfc_allocator.cc:1083] InUse at 7f9196013500 of size 37632 next 14\n",
      "2022-06-09 14:43:22.077505: I tensorflow/core/common_runtime/bfc_allocator.cc:1083] InUse at 7f919601c800 of size 1024 next 74\n",
      "2022-06-09 14:43:22.077512: I tensorflow/core/common_runtime/bfc_allocator.cc:1083] InUse at 7f919601cc00 of size 1024 next 75\n",
      "2022-06-09 14:43:22.077518: I tensorflow/core/common_runtime/bfc_allocator.cc:1083] InUse at 7f919601d000 of size 1024 next 76\n",
      "2022-06-09 14:43:22.077524: I tensorflow/core/common_runtime/bfc_allocator.cc:1083] InUse at 7f919601d400 of size 512 next 81\n",
      "2022-06-09 14:43:22.077531: I tensorflow/core/common_runtime/bfc_allocator.cc:1083] InUse at 7f919601d600 of size 512 next 82\n",
      "2022-06-09 14:43:22.077541: I tensorflow/core/common_runtime/bfc_allocator.cc:1083] InUse at 7f919601d800 of size 512 next 83\n",
      "2022-06-09 14:43:22.077549: I tensorflow/core/common_runtime/bfc_allocator.cc:1083] InUse at 7f919601da00 of size 512 next 84\n",
      "2022-06-09 14:43:22.077555: I tensorflow/core/common_runtime/bfc_allocator.cc:1083] InUse at 7f919601dc00 of size 256 next 85\n",
      "2022-06-09 14:43:22.077562: I tensorflow/core/common_runtime/bfc_allocator.cc:1083] InUse at 7f919601dd00 of size 256 next 86\n",
      "2022-06-09 14:43:22.077572: I tensorflow/core/common_runtime/bfc_allocator.cc:1083] InUse at 7f919601de00 of size 512 next 89\n",
      "2022-06-09 14:43:22.077579: I tensorflow/core/common_runtime/bfc_allocator.cc:1083] InUse at 7f919601e000 of size 512 next 90\n",
      "2022-06-09 14:43:22.077585: I tensorflow/core/common_runtime/bfc_allocator.cc:1083] InUse at 7f919601e200 of size 512 next 91\n",
      "2022-06-09 14:43:22.077591: I tensorflow/core/common_runtime/bfc_allocator.cc:1083] InUse at 7f919601e400 of size 512 next 92\n",
      "2022-06-09 14:43:22.077600: I tensorflow/core/common_runtime/bfc_allocator.cc:1083] InUse at 7f919601e600 of size 256 next 93\n",
      "2022-06-09 14:43:22.077607: I tensorflow/core/common_runtime/bfc_allocator.cc:1083] InUse at 7f919601e700 of size 256 next 94\n",
      "2022-06-09 14:43:22.077614: I tensorflow/core/common_runtime/bfc_allocator.cc:1083] InUse at 7f919601e800 of size 2048 next 95\n",
      "2022-06-09 14:43:22.077620: I tensorflow/core/common_runtime/bfc_allocator.cc:1083] InUse at 7f919601f000 of size 2048 next 97\n",
      "2022-06-09 14:43:22.077630: I tensorflow/core/common_runtime/bfc_allocator.cc:1083] InUse at 7f919601f800 of size 2048 next 98\n",
      "2022-06-09 14:43:22.077638: I tensorflow/core/common_runtime/bfc_allocator.cc:1083] InUse at 7f9196020000 of size 2048 next 99\n",
      "2022-06-09 14:43:22.077645: I tensorflow/core/common_runtime/bfc_allocator.cc:1083] InUse at 7f9196020800 of size 256 next 100\n",
      "2022-06-09 14:43:22.077651: I tensorflow/core/common_runtime/bfc_allocator.cc:1083] InUse at 7f9196020900 of size 256 next 101\n",
      "2022-06-09 14:43:22.077661: I tensorflow/core/common_runtime/bfc_allocator.cc:1083] InUse at 7f9196020a00 of size 512 next 102\n",
      "2022-06-09 14:43:22.077668: I tensorflow/core/common_runtime/bfc_allocator.cc:1083] InUse at 7f9196020c00 of size 512 next 104\n",
      "2022-06-09 14:43:22.077675: I tensorflow/core/common_runtime/bfc_allocator.cc:1083] InUse at 7f9196020e00 of size 512 next 105\n",
      "2022-06-09 14:43:22.077681: I tensorflow/core/common_runtime/bfc_allocator.cc:1083] InUse at 7f9196021000 of size 512 next 106\n",
      "2022-06-09 14:43:22.077691: I tensorflow/core/common_runtime/bfc_allocator.cc:1083] InUse at 7f9196021200 of size 512 next 107\n",
      "2022-06-09 14:43:22.077697: I tensorflow/core/common_runtime/bfc_allocator.cc:1083] InUse at 7f9196021400 of size 512 next 110\n",
      "2022-06-09 14:43:22.077704: I tensorflow/core/common_runtime/bfc_allocator.cc:1083] InUse at 7f9196021600 of size 512 next 111\n",
      "2022-06-09 14:43:22.077710: I tensorflow/core/common_runtime/bfc_allocator.cc:1083] InUse at 7f9196021800 of size 512 next 112\n",
      "2022-06-09 14:43:22.077716: I tensorflow/core/common_runtime/bfc_allocator.cc:1083] InUse at 7f9196021a00 of size 2048 next 113\n",
      "2022-06-09 14:43:22.077722: I tensorflow/core/common_runtime/bfc_allocator.cc:1083] InUse at 7f9196022200 of size 2048 next 115\n",
      "2022-06-09 14:43:22.077729: I tensorflow/core/common_runtime/bfc_allocator.cc:1083] InUse at 7f9196022a00 of size 2048 next 116\n",
      "2022-06-09 14:43:22.077735: I tensorflow/core/common_runtime/bfc_allocator.cc:1083] InUse at 7f9196023200 of size 2048 next 117\n",
      "2022-06-09 14:43:22.077741: I tensorflow/core/common_runtime/bfc_allocator.cc:1083] InUse at 7f9196023a00 of size 512 next 119\n",
      "2022-06-09 14:43:22.077747: I tensorflow/core/common_runtime/bfc_allocator.cc:1083] InUse at 7f9196023c00 of size 512 next 120\n",
      "2022-06-09 14:43:22.077754: I tensorflow/core/common_runtime/bfc_allocator.cc:1083] InUse at 7f9196023e00 of size 512 next 121\n",
      "2022-06-09 14:43:22.077760: I tensorflow/core/common_runtime/bfc_allocator.cc:1083] InUse at 7f9196024000 of size 512 next 122\n",
      "2022-06-09 14:43:22.077766: I tensorflow/core/common_runtime/bfc_allocator.cc:1083] InUse at 7f9196024200 of size 512 next 125\n",
      "2022-06-09 14:43:22.077772: I tensorflow/core/common_runtime/bfc_allocator.cc:1083] InUse at 7f9196024400 of size 512 next 126\n",
      "2022-06-09 14:43:22.077779: I tensorflow/core/common_runtime/bfc_allocator.cc:1083] InUse at 7f9196024600 of size 768 next 27\n",
      "2022-06-09 14:43:22.077785: I tensorflow/core/common_runtime/bfc_allocator.cc:1083] InUse at 7f9196024900 of size 16384 next 28\n",
      "2022-06-09 14:43:22.077791: I tensorflow/core/common_runtime/bfc_allocator.cc:1083] InUse at 7f9196028900 of size 256 next 23\n",
      "2022-06-09 14:43:22.077798: I tensorflow/core/common_runtime/bfc_allocator.cc:1083] InUse at 7f9196028a00 of size 256 next 26\n",
      "2022-06-09 14:43:22.077804: I tensorflow/core/common_runtime/bfc_allocator.cc:1083] InUse at 7f9196028b00 of size 256 next 29\n",
      "2022-06-09 14:43:22.077810: I tensorflow/core/common_runtime/bfc_allocator.cc:1083] InUse at 7f9196028c00 of size 256 next 30\n",
      "2022-06-09 14:43:22.077818: I tensorflow/core/common_runtime/bfc_allocator.cc:1083] InUse at 7f9196028d00 of size 256 next 31\n",
      "2022-06-09 14:43:22.077825: I tensorflow/core/common_runtime/bfc_allocator.cc:1083] InUse at 7f9196028e00 of size 256 next 32\n",
      "2022-06-09 14:43:22.077831: I tensorflow/core/common_runtime/bfc_allocator.cc:1083] InUse at 7f9196028f00 of size 256 next 33\n",
      "2022-06-09 14:43:22.077837: I tensorflow/core/common_runtime/bfc_allocator.cc:1083] InUse at 7f9196029000 of size 256 next 36\n",
      "2022-06-09 14:43:22.077845: I tensorflow/core/common_runtime/bfc_allocator.cc:1083] InUse at 7f9196029100 of size 256 next 37\n",
      "2022-06-09 14:43:22.077852: I tensorflow/core/common_runtime/bfc_allocator.cc:1083] InUse at 7f9196029200 of size 256 next 38\n",
      "2022-06-09 14:43:22.077858: I tensorflow/core/common_runtime/bfc_allocator.cc:1083] InUse at 7f9196029300 of size 1024 next 41\n",
      "2022-06-09 14:43:22.077864: I tensorflow/core/common_runtime/bfc_allocator.cc:1083] InUse at 7f9196029700 of size 1024 next 42\n",
      "2022-06-09 14:43:22.077871: I tensorflow/core/common_runtime/bfc_allocator.cc:1083] InUse at 7f9196029b00 of size 1024 next 43\n",
      "2022-06-09 14:43:22.077878: I tensorflow/core/common_runtime/bfc_allocator.cc:1083] InUse at 7f9196029f00 of size 1024 next 44\n",
      "2022-06-09 14:43:22.077885: I tensorflow/core/common_runtime/bfc_allocator.cc:1083] InUse at 7f919602a300 of size 256 next 45\n",
      "2022-06-09 14:43:22.077892: I tensorflow/core/common_runtime/bfc_allocator.cc:1083] InUse at 7f919602a400 of size 256 next 46\n",
      "2022-06-09 14:43:22.077898: I tensorflow/core/common_runtime/bfc_allocator.cc:1083] InUse at 7f919602a500 of size 256 next 48\n",
      "2022-06-09 14:43:22.077904: I tensorflow/core/common_runtime/bfc_allocator.cc:1083] InUse at 7f919602a600 of size 256 next 49\n",
      "2022-06-09 14:43:22.077911: I tensorflow/core/common_runtime/bfc_allocator.cc:1083] InUse at 7f919602a700 of size 256 next 50\n",
      "2022-06-09 14:43:22.077920: I tensorflow/core/common_runtime/bfc_allocator.cc:1083] InUse at 7f919602a800 of size 256 next 51\n",
      "2022-06-09 14:43:22.077926: I tensorflow/core/common_runtime/bfc_allocator.cc:1083] InUse at 7f919602a900 of size 256 next 52\n",
      "2022-06-09 14:43:22.077932: I tensorflow/core/common_runtime/bfc_allocator.cc:1083] InUse at 7f919602aa00 of size 256 next 55\n",
      "2022-06-09 14:43:22.077938: I tensorflow/core/common_runtime/bfc_allocator.cc:1083] InUse at 7f919602ab00 of size 256 next 56\n",
      "2022-06-09 14:43:22.077947: I tensorflow/core/common_runtime/bfc_allocator.cc:1083] InUse at 7f919602ac00 of size 256 next 57\n",
      "2022-06-09 14:43:22.077953: I tensorflow/core/common_runtime/bfc_allocator.cc:1083] InUse at 7f919602ad00 of size 1024 next 58\n",
      "2022-06-09 14:43:22.077960: I tensorflow/core/common_runtime/bfc_allocator.cc:1083] InUse at 7f919602b100 of size 1024 next 59\n",
      "2022-06-09 14:43:22.077966: I tensorflow/core/common_runtime/bfc_allocator.cc:1083] InUse at 7f919602b500 of size 1024 next 60\n",
      "2022-06-09 14:43:22.077973: I tensorflow/core/common_runtime/bfc_allocator.cc:1083] InUse at 7f919602b900 of size 1024 next 61\n",
      "2022-06-09 14:43:22.077981: I tensorflow/core/common_runtime/bfc_allocator.cc:1083] InUse at 7f919602bd00 of size 256 next 63\n",
      "2022-06-09 14:43:22.077988: I tensorflow/core/common_runtime/bfc_allocator.cc:1083] InUse at 7f919602be00 of size 256 next 64\n",
      "2022-06-09 14:43:22.077994: I tensorflow/core/common_runtime/bfc_allocator.cc:1083] InUse at 7f919602bf00 of size 256 next 65\n",
      "2022-06-09 14:43:22.078000: I tensorflow/core/common_runtime/bfc_allocator.cc:1083] InUse at 7f919602c000 of size 256 next 66\n",
      "2022-06-09 14:43:22.078009: I tensorflow/core/common_runtime/bfc_allocator.cc:1083] InUse at 7f919602c100 of size 256 next 69\n",
      "2022-06-09 14:43:22.078015: I tensorflow/core/common_runtime/bfc_allocator.cc:1083] InUse at 7f919602c200 of size 256 next 70\n",
      "2022-06-09 14:43:22.078022: I tensorflow/core/common_runtime/bfc_allocator.cc:1083] InUse at 7f919602c300 of size 256 next 71\n",
      "2022-06-09 14:43:22.078028: I tensorflow/core/common_runtime/bfc_allocator.cc:1083] InUse at 7f919602c400 of size 256 next 72\n",
      "2022-06-09 14:43:22.078035: I tensorflow/core/common_runtime/bfc_allocator.cc:1083] InUse at 7f919602c500 of size 1024 next 24\n",
      "2022-06-09 14:43:22.078043: I tensorflow/core/common_runtime/bfc_allocator.cc:1083] InUse at 7f919602c900 of size 65536 next 25\n",
      "2022-06-09 14:43:22.078050: I tensorflow/core/common_runtime/bfc_allocator.cc:1083] InUse at 7f919603c900 of size 512 next 127\n",
      "2022-06-09 14:43:22.078056: I tensorflow/core/common_runtime/bfc_allocator.cc:1083] InUse at 7f919603cb00 of size 2048 next 129\n",
      "2022-06-09 14:43:22.078063: I tensorflow/core/common_runtime/bfc_allocator.cc:1083] InUse at 7f919603d300 of size 2048 next 130\n",
      "2022-06-09 14:43:22.078069: I tensorflow/core/common_runtime/bfc_allocator.cc:1083] InUse at 7f919603db00 of size 2048 next 131\n",
      "2022-06-09 14:43:22.078077: I tensorflow/core/common_runtime/bfc_allocator.cc:1083] InUse at 7f919603e300 of size 2048 next 132\n",
      "2022-06-09 14:43:22.078083: I tensorflow/core/common_runtime/bfc_allocator.cc:1083] InUse at 7f919603eb00 of size 512 next 133\n",
      "2022-06-09 14:43:22.078090: I tensorflow/core/common_runtime/bfc_allocator.cc:1083] InUse at 7f919603ed00 of size 512 next 134\n",
      "2022-06-09 14:43:22.078096: I tensorflow/core/common_runtime/bfc_allocator.cc:1083] InUse at 7f919603ef00 of size 512 next 135\n",
      "2022-06-09 14:43:22.078102: I tensorflow/core/common_runtime/bfc_allocator.cc:1083] InUse at 7f919603f100 of size 512 next 136\n",
      "2022-06-09 14:43:22.078108: I tensorflow/core/common_runtime/bfc_allocator.cc:1083] InUse at 7f919603f300 of size 512 next 139\n",
      "2022-06-09 14:43:22.078114: I tensorflow/core/common_runtime/bfc_allocator.cc:1083] InUse at 7f919603f500 of size 512 next 140\n",
      "2022-06-09 14:43:22.078120: I tensorflow/core/common_runtime/bfc_allocator.cc:1083] InUse at 7f919603f700 of size 512 next 141\n",
      "2022-06-09 14:43:22.078127: I tensorflow/core/common_runtime/bfc_allocator.cc:1083] InUse at 7f919603f900 of size 512 next 142\n",
      "2022-06-09 14:43:22.078133: I tensorflow/core/common_runtime/bfc_allocator.cc:1083] InUse at 7f919603fb00 of size 2048 next 144\n",
      "2022-06-09 14:43:22.078141: I tensorflow/core/common_runtime/bfc_allocator.cc:1083] InUse at 7f9196040300 of size 2048 next 145\n",
      "2022-06-09 14:43:22.078147: I tensorflow/core/common_runtime/bfc_allocator.cc:1083] InUse at 7f9196040b00 of size 2048 next 146\n",
      "2022-06-09 14:43:22.078154: I tensorflow/core/common_runtime/bfc_allocator.cc:1083] InUse at 7f9196041300 of size 2048 next 147\n",
      "2022-06-09 14:43:22.078160: I tensorflow/core/common_runtime/bfc_allocator.cc:1083] InUse at 7f9196041b00 of size 1024 next 152\n",
      "2022-06-09 14:43:22.078166: I tensorflow/core/common_runtime/bfc_allocator.cc:1083] InUse at 7f9196041f00 of size 1024 next 153\n",
      "2022-06-09 14:43:22.078173: I tensorflow/core/common_runtime/bfc_allocator.cc:1083] InUse at 7f9196042300 of size 1024 next 154\n",
      "2022-06-09 14:43:22.078179: I tensorflow/core/common_runtime/bfc_allocator.cc:1083] InUse at 7f9196042700 of size 1024 next 155\n",
      "2022-06-09 14:43:22.078185: I tensorflow/core/common_runtime/bfc_allocator.cc:1083] InUse at 7f9196042b00 of size 256 next 156\n",
      "2022-06-09 14:43:22.078192: I tensorflow/core/common_runtime/bfc_allocator.cc:1083] InUse at 7f9196042c00 of size 256 next 157\n",
      "2022-06-09 14:43:22.078199: I tensorflow/core/common_runtime/bfc_allocator.cc:1083] InUse at 7f9196042d00 of size 1024 next 160\n",
      "2022-06-09 14:43:22.078206: I tensorflow/core/common_runtime/bfc_allocator.cc:1083] InUse at 7f9196043100 of size 1024 next 161\n",
      "2022-06-09 14:43:22.078212: I tensorflow/core/common_runtime/bfc_allocator.cc:1083] InUse at 7f9196043500 of size 1024 next 162\n",
      "2022-06-09 14:43:22.078219: I tensorflow/core/common_runtime/bfc_allocator.cc:1083] InUse at 7f9196043900 of size 1024 next 163\n",
      "2022-06-09 14:43:22.078225: I tensorflow/core/common_runtime/bfc_allocator.cc:1083] InUse at 7f9196043d00 of size 4096 next 164\n",
      "2022-06-09 14:43:22.078231: I tensorflow/core/common_runtime/bfc_allocator.cc:1083] InUse at 7f9196044d00 of size 4096 next 166\n",
      "2022-06-09 14:43:22.078237: I tensorflow/core/common_runtime/bfc_allocator.cc:1083] InUse at 7f9196045d00 of size 4096 next 167\n",
      "2022-06-09 14:43:22.078244: I tensorflow/core/common_runtime/bfc_allocator.cc:1083] InUse at 7f9196046d00 of size 4096 next 168\n",
      "2022-06-09 14:43:22.078250: I tensorflow/core/common_runtime/bfc_allocator.cc:1083] InUse at 7f9196047d00 of size 256 next 169\n",
      "2022-06-09 14:43:22.078256: I tensorflow/core/common_runtime/bfc_allocator.cc:1083] InUse at 7f9196047e00 of size 256 next 170\n",
      "2022-06-09 14:43:22.078262: I tensorflow/core/common_runtime/bfc_allocator.cc:1083] InUse at 7f9196047f00 of size 1024 next 171\n",
      "2022-06-09 14:43:22.078269: I tensorflow/core/common_runtime/bfc_allocator.cc:1083] InUse at 7f9196048300 of size 1024 next 173\n",
      "2022-06-09 14:43:22.078275: I tensorflow/core/common_runtime/bfc_allocator.cc:1083] InUse at 7f9196048700 of size 1024 next 174\n",
      "2022-06-09 14:43:22.078281: I tensorflow/core/common_runtime/bfc_allocator.cc:1083] InUse at 7f9196048b00 of size 1024 next 175\n",
      "2022-06-09 14:43:22.078287: I tensorflow/core/common_runtime/bfc_allocator.cc:1083] InUse at 7f9196048f00 of size 1024 next 176\n",
      "2022-06-09 14:43:22.078296: I tensorflow/core/common_runtime/bfc_allocator.cc:1083] InUse at 7f9196049300 of size 1024 next 179\n",
      "2022-06-09 14:43:22.078303: I tensorflow/core/common_runtime/bfc_allocator.cc:1083] InUse at 7f9196049700 of size 1024 next 180\n",
      "2022-06-09 14:43:22.078309: I tensorflow/core/common_runtime/bfc_allocator.cc:1083] InUse at 7f9196049b00 of size 1024 next 181\n",
      "2022-06-09 14:43:22.078316: I tensorflow/core/common_runtime/bfc_allocator.cc:1083] InUse at 7f9196049f00 of size 4096 next 182\n",
      "2022-06-09 14:43:22.078322: I tensorflow/core/common_runtime/bfc_allocator.cc:1083] InUse at 7f919604af00 of size 6656 next 40\n",
      "2022-06-09 14:43:22.078329: I tensorflow/core/common_runtime/bfc_allocator.cc:1083] InUse at 7f919604c900 of size 65536 next 39\n",
      "2022-06-09 14:43:22.078335: I tensorflow/core/common_runtime/bfc_allocator.cc:1083] InUse at 7f919605c900 of size 65536 next 47\n",
      "2022-06-09 14:43:22.078341: I tensorflow/core/common_runtime/bfc_allocator.cc:1083] InUse at 7f919606c900 of size 98304 next 35\n",
      "2022-06-09 14:43:22.078348: I tensorflow/core/common_runtime/bfc_allocator.cc:1083] InUse at 7f9196084900 of size 147456 next 34\n",
      "2022-06-09 14:43:22.078358: I tensorflow/core/common_runtime/bfc_allocator.cc:1083] InUse at 7f91960a8900 of size 65536 next 62\n",
      "2022-06-09 14:43:22.078371: I tensorflow/core/common_runtime/bfc_allocator.cc:1083] InUse at 7f91960b8900 of size 65536 next 219\n",
      "2022-06-09 14:43:22.078383: I tensorflow/core/common_runtime/bfc_allocator.cc:1083] InUse at 7f91960c8900 of size 65536 next 230\n",
      "2022-06-09 14:43:22.078396: I tensorflow/core/common_runtime/bfc_allocator.cc:1083] InUse at 7f91960d8900 of size 98304 next 54\n",
      "2022-06-09 14:43:22.078406: I tensorflow/core/common_runtime/bfc_allocator.cc:1083] InUse at 7f91960f0900 of size 147456 next 53\n",
      "2022-06-09 14:43:22.078413: I tensorflow/core/common_runtime/bfc_allocator.cc:1083] InUse at 7f9196114900 of size 65536 next 73\n",
      "2022-06-09 14:43:22.078423: I tensorflow/core/common_runtime/bfc_allocator.cc:1083] InUse at 7f9196124900 of size 1024 next 260\n",
      "2022-06-09 14:43:22.078431: I tensorflow/core/common_runtime/bfc_allocator.cc:1083] InUse at 7f9196124d00 of size 1024 next 261\n",
      "2022-06-09 14:43:22.078437: I tensorflow/core/common_runtime/bfc_allocator.cc:1083] InUse at 7f9196125100 of size 512 next 262\n",
      "2022-06-09 14:43:22.078443: I tensorflow/core/common_runtime/bfc_allocator.cc:1083] InUse at 7f9196125300 of size 512 next 265\n",
      "2022-06-09 14:43:22.078449: I tensorflow/core/common_runtime/bfc_allocator.cc:1083] InUse at 7f9196125500 of size 512 next 266\n",
      "2022-06-09 14:43:22.078456: I tensorflow/core/common_runtime/bfc_allocator.cc:1083] InUse at 7f9196125700 of size 512 next 267\n",
      "2022-06-09 14:43:22.078462: I tensorflow/core/common_runtime/bfc_allocator.cc:1083] InUse at 7f9196125900 of size 512 next 268\n",
      "2022-06-09 14:43:22.078468: I tensorflow/core/common_runtime/bfc_allocator.cc:1083] InUse at 7f9196125b00 of size 512 next 270\n",
      "2022-06-09 14:43:22.078474: I tensorflow/core/common_runtime/bfc_allocator.cc:1083] InUse at 7f9196125d00 of size 512 next 271\n",
      "2022-06-09 14:43:22.078481: I tensorflow/core/common_runtime/bfc_allocator.cc:1083] InUse at 7f9196125f00 of size 512 next 272\n",
      "2022-06-09 14:43:22.078487: I tensorflow/core/common_runtime/bfc_allocator.cc:1083] InUse at 7f9196126100 of size 2048 next 273\n",
      "2022-06-09 14:43:22.078493: I tensorflow/core/common_runtime/bfc_allocator.cc:1083] InUse at 7f9196126900 of size 2048 next 275\n",
      "2022-06-09 14:43:22.078500: I tensorflow/core/common_runtime/bfc_allocator.cc:1083] InUse at 7f9196127100 of size 2048 next 276\n",
      "2022-06-09 14:43:22.078511: I tensorflow/core/common_runtime/bfc_allocator.cc:1083] InUse at 7f9196127900 of size 2048 next 277\n",
      "2022-06-09 14:43:22.078518: I tensorflow/core/common_runtime/bfc_allocator.cc:1083] InUse at 7f9196128100 of size 512 next 279\n",
      "2022-06-09 14:43:22.078524: I tensorflow/core/common_runtime/bfc_allocator.cc:1083] InUse at 7f9196128300 of size 512 next 280\n",
      "2022-06-09 14:43:22.078530: I tensorflow/core/common_runtime/bfc_allocator.cc:1083] InUse at 7f9196128500 of size 512 next 281\n",
      "2022-06-09 14:43:22.078537: I tensorflow/core/common_runtime/bfc_allocator.cc:1083] InUse at 7f9196128700 of size 512 next 282\n",
      "2022-06-09 14:43:22.078543: I tensorflow/core/common_runtime/bfc_allocator.cc:1083] InUse at 7f9196128900 of size 512 next 286\n",
      "2022-06-09 14:43:22.078549: I tensorflow/core/common_runtime/bfc_allocator.cc:1083] InUse at 7f9196128b00 of size 512 next 287\n",
      "2022-06-09 14:43:22.078555: I tensorflow/core/common_runtime/bfc_allocator.cc:1083] InUse at 7f9196128d00 of size 512 next 288\n",
      "2022-06-09 14:43:22.078564: I tensorflow/core/common_runtime/bfc_allocator.cc:1083] InUse at 7f9196128f00 of size 512 next 289\n",
      "2022-06-09 14:43:22.078573: I tensorflow/core/common_runtime/bfc_allocator.cc:1083] InUse at 7f9196129100 of size 2048 next 290\n",
      "2022-06-09 14:43:22.078579: I tensorflow/core/common_runtime/bfc_allocator.cc:1083] InUse at 7f9196129900 of size 2048 next 291\n",
      "2022-06-09 14:43:22.078586: I tensorflow/core/common_runtime/bfc_allocator.cc:1083] InUse at 7f919612a100 of size 2048 next 292\n",
      "2022-06-09 14:43:22.078592: I tensorflow/core/common_runtime/bfc_allocator.cc:1083] InUse at 7f919612a900 of size 2048 next 293\n",
      "2022-06-09 14:43:22.078598: I tensorflow/core/common_runtime/bfc_allocator.cc:1083] InUse at 7f919612b100 of size 512 next 295\n",
      "2022-06-09 14:43:22.078605: I tensorflow/core/common_runtime/bfc_allocator.cc:1083] InUse at 7f919612b300 of size 512 next 296\n",
      "2022-06-09 14:43:22.078611: I tensorflow/core/common_runtime/bfc_allocator.cc:1083] InUse at 7f919612b500 of size 512 next 297\n",
      "2022-06-09 14:43:22.078618: I tensorflow/core/common_runtime/bfc_allocator.cc:1083] InUse at 7f919612b700 of size 512 next 298\n",
      "2022-06-09 14:43:22.078628: I tensorflow/core/common_runtime/bfc_allocator.cc:1083] InUse at 7f919612b900 of size 512 next 301\n",
      "2022-06-09 14:43:22.078634: I tensorflow/core/common_runtime/bfc_allocator.cc:1083] InUse at 7f919612bb00 of size 512 next 302\n",
      "2022-06-09 14:43:22.078640: I tensorflow/core/common_runtime/bfc_allocator.cc:1083] InUse at 7f919612bd00 of size 512 next 303\n",
      "2022-06-09 14:43:22.078647: I tensorflow/core/common_runtime/bfc_allocator.cc:1083] InUse at 7f919612bf00 of size 512 next 304\n",
      "2022-06-09 14:43:22.078653: I tensorflow/core/common_runtime/bfc_allocator.cc:1083] InUse at 7f919612c100 of size 2048 next 305\n",
      "2022-06-09 14:43:22.078659: I tensorflow/core/common_runtime/bfc_allocator.cc:1083] InUse at 7f919612c900 of size 2048 next 306\n",
      "2022-06-09 14:43:22.078665: I tensorflow/core/common_runtime/bfc_allocator.cc:1083] InUse at 7f919612d100 of size 2048 next 307\n",
      "2022-06-09 14:43:22.078673: I tensorflow/core/common_runtime/bfc_allocator.cc:1083] InUse at 7f919612d900 of size 2048 next 308\n",
      "2022-06-09 14:43:22.078683: I tensorflow/core/common_runtime/bfc_allocator.cc:1083] InUse at 7f919612e100 of size 512 next 310\n",
      "2022-06-09 14:43:22.078690: I tensorflow/core/common_runtime/bfc_allocator.cc:1083] InUse at 7f919612e300 of size 512 next 311\n",
      "2022-06-09 14:43:22.078696: I tensorflow/core/common_runtime/bfc_allocator.cc:1083] InUse at 7f919612e500 of size 512 next 312\n",
      "2022-06-09 14:43:22.078702: I tensorflow/core/common_runtime/bfc_allocator.cc:1083] InUse at 7f919612e700 of size 512 next 313\n",
      "2022-06-09 14:43:22.078709: I tensorflow/core/common_runtime/bfc_allocator.cc:1083] InUse at 7f919612e900 of size 512 next 316\n",
      "2022-06-09 14:43:22.078716: I tensorflow/core/common_runtime/bfc_allocator.cc:1083] InUse at 7f919612eb00 of size 512 next 317\n",
      "2022-06-09 14:43:22.078722: I tensorflow/core/common_runtime/bfc_allocator.cc:1083] InUse at 7f919612ed00 of size 512 next 318\n",
      "2022-06-09 14:43:22.078731: I tensorflow/core/common_runtime/bfc_allocator.cc:1083] InUse at 7f919612ef00 of size 512 next 319\n",
      "2022-06-09 14:43:22.078738: I tensorflow/core/common_runtime/bfc_allocator.cc:1083] InUse at 7f919612f100 of size 2048 next 320\n",
      "2022-06-09 14:43:22.078745: I tensorflow/core/common_runtime/bfc_allocator.cc:1083] InUse at 7f919612f900 of size 2048 next 321\n",
      "2022-06-09 14:43:22.078751: I tensorflow/core/common_runtime/bfc_allocator.cc:1083] InUse at 7f9196130100 of size 2048 next 322\n",
      "2022-06-09 14:43:22.078757: I tensorflow/core/common_runtime/bfc_allocator.cc:1083] InUse at 7f9196130900 of size 2048 next 323\n",
      "2022-06-09 14:43:22.078763: I tensorflow/core/common_runtime/bfc_allocator.cc:1083] InUse at 7f9196131100 of size 1024 next 327\n",
      "2022-06-09 14:43:22.078770: I tensorflow/core/common_runtime/bfc_allocator.cc:1083] InUse at 7f9196131500 of size 1024 next 328\n",
      "2022-06-09 14:43:22.078776: I tensorflow/core/common_runtime/bfc_allocator.cc:1083] InUse at 7f9196131900 of size 1024 next 329\n",
      "2022-06-09 14:43:22.078784: I tensorflow/core/common_runtime/bfc_allocator.cc:1083] InUse at 7f9196131d00 of size 1024 next 330\n",
      "2022-06-09 14:43:22.078792: I tensorflow/core/common_runtime/bfc_allocator.cc:1083] InUse at 7f9196132100 of size 1024 next 333\n",
      "2022-06-09 14:43:22.078799: I tensorflow/core/common_runtime/bfc_allocator.cc:1083] InUse at 7f9196132500 of size 1024 next 334\n",
      "2022-06-09 14:43:22.078805: I tensorflow/core/common_runtime/bfc_allocator.cc:1083] InUse at 7f9196132900 of size 1024 next 335\n",
      "2022-06-09 14:43:22.078811: I tensorflow/core/common_runtime/bfc_allocator.cc:1083] InUse at 7f9196132d00 of size 1024 next 336\n",
      "2022-06-09 14:43:22.078818: I tensorflow/core/common_runtime/bfc_allocator.cc:1083] InUse at 7f9196133100 of size 4096 next 337\n",
      "2022-06-09 14:43:22.078824: I tensorflow/core/common_runtime/bfc_allocator.cc:1083] InUse at 7f9196134100 of size 4096 next 339\n",
      "2022-06-09 14:43:22.078830: I tensorflow/core/common_runtime/bfc_allocator.cc:1083] InUse at 7f9196135100 of size 4096 next 340\n",
      "2022-06-09 14:43:22.078840: I tensorflow/core/common_runtime/bfc_allocator.cc:1083] InUse at 7f9196136100 of size 4096 next 341\n",
      "2022-06-09 14:43:22.078846: I tensorflow/core/common_runtime/bfc_allocator.cc:1083] InUse at 7f9196137100 of size 1024 next 342\n",
      "2022-06-09 14:43:22.078852: I tensorflow/core/common_runtime/bfc_allocator.cc:1083] InUse at 7f9196137500 of size 1024 next 344\n",
      "2022-06-09 14:43:22.078859: I tensorflow/core/common_runtime/bfc_allocator.cc:1083] InUse at 7f9196137900 of size 1024 next 345\n",
      "2022-06-09 14:43:22.078865: I tensorflow/core/common_runtime/bfc_allocator.cc:1083] InUse at 7f9196137d00 of size 1024 next 346\n",
      "2022-06-09 14:43:22.078871: I tensorflow/core/common_runtime/bfc_allocator.cc:1083] InUse at 7f9196138100 of size 1024 next 349\n",
      "2022-06-09 14:43:22.078877: I tensorflow/core/common_runtime/bfc_allocator.cc:1083] InUse at 7f9196138500 of size 1024 next 68\n",
      "2022-06-09 14:43:22.078884: I tensorflow/core/common_runtime/bfc_allocator.cc:1083] InUse at 7f9196138900 of size 147456 next 67\n",
      "2022-06-09 14:43:22.078890: I tensorflow/core/common_runtime/bfc_allocator.cc:1083] InUse at 7f919615c900 of size 37632 next 211\n",
      "2022-06-09 14:43:22.078896: I tensorflow/core/common_runtime/bfc_allocator.cc:1083] InUse at 7f9196165c00 of size 1024 next 350\n",
      "2022-06-09 14:43:22.078902: I tensorflow/core/common_runtime/bfc_allocator.cc:1083] InUse at 7f9196166000 of size 1024 next 351\n",
      "2022-06-09 14:43:22.078909: I tensorflow/core/common_runtime/bfc_allocator.cc:1083] InUse at 7f9196166400 of size 4096 next 352\n",
      "2022-06-09 14:43:22.078915: I tensorflow/core/common_runtime/bfc_allocator.cc:1083] InUse at 7f9196167400 of size 4096 next 354\n",
      "2022-06-09 14:43:22.078921: I tensorflow/core/common_runtime/bfc_allocator.cc:1083] InUse at 7f9196168400 of size 4096 next 355\n",
      "2022-06-09 14:43:22.078927: I tensorflow/core/common_runtime/bfc_allocator.cc:1083] InUse at 7f9196169400 of size 4096 next 356\n",
      "2022-06-09 14:43:22.078934: I tensorflow/core/common_runtime/bfc_allocator.cc:1083] InUse at 7f919616a400 of size 1024 next 358\n",
      "2022-06-09 14:43:22.078944: I tensorflow/core/common_runtime/bfc_allocator.cc:1083] InUse at 7f919616a800 of size 1024 next 359\n",
      "2022-06-09 14:43:22.078951: I tensorflow/core/common_runtime/bfc_allocator.cc:1083] InUse at 7f919616ac00 of size 1024 next 360\n",
      "2022-06-09 14:43:22.078958: I tensorflow/core/common_runtime/bfc_allocator.cc:1083] InUse at 7f919616b000 of size 1024 next 361\n",
      "2022-06-09 14:43:22.078964: I tensorflow/core/common_runtime/bfc_allocator.cc:1083] InUse at 7f919616b400 of size 256 next 362\n",
      "2022-06-09 14:43:22.078970: I tensorflow/core/common_runtime/bfc_allocator.cc:1083] Free  at 7f919616b500 of size 70656 next 80\n",
      "2022-06-09 14:43:22.078977: I tensorflow/core/common_runtime/bfc_allocator.cc:1083] InUse at 7f919617c900 of size 131072 next 77\n",
      "2022-06-09 14:43:22.078983: I tensorflow/core/common_runtime/bfc_allocator.cc:1083] InUse at 7f919619c900 of size 262144 next 96\n",
      "2022-06-09 14:43:22.078991: I tensorflow/core/common_runtime/bfc_allocator.cc:1083] Free  at 7f91961dc900 of size 262144 next 114\n",
      "2022-06-09 14:43:22.079001: I tensorflow/core/common_runtime/bfc_allocator.cc:1083] InUse at 7f919621c900 of size 262144 next 79\n",
      "2022-06-09 14:43:22.079008: I tensorflow/core/common_runtime/bfc_allocator.cc:1083] InUse at 7f919625c900 of size 524288 next 78\n",
      "2022-06-09 14:43:22.079014: I tensorflow/core/common_runtime/bfc_allocator.cc:1083] InUse at 7f91962dc900 of size 262144 next 103\n",
      "2022-06-09 14:43:22.079020: I tensorflow/core/common_runtime/bfc_allocator.cc:1083] InUse at 7f919631c900 of size 147456 next 225\n",
      "2022-06-09 14:43:22.079027: I tensorflow/core/common_runtime/bfc_allocator.cc:1083] InUse at 7f9196340900 of size 65536 next 244\n",
      "2022-06-09 14:43:22.079033: I tensorflow/core/common_runtime/bfc_allocator.cc:1083] InUse at 7f9196350900 of size 114688 next 88\n",
      "2022-06-09 14:43:22.079040: I tensorflow/core/common_runtime/bfc_allocator.cc:1083] InUse at 7f919636c900 of size 589824 next 87\n",
      "2022-06-09 14:43:22.079050: I tensorflow/core/common_runtime/bfc_allocator.cc:1083] InUse at 7f91963fc900 of size 262144 next 118\n",
      "2022-06-09 14:43:22.079058: I tensorflow/core/common_runtime/bfc_allocator.cc:1083] Free  at 7f919643c900 of size 917504 next 109\n",
      "2022-06-09 14:43:22.079064: I tensorflow/core/common_runtime/bfc_allocator.cc:1083] InUse at 7f919651c900 of size 589824 next 108\n",
      "2022-06-09 14:43:22.079070: I tensorflow/core/common_runtime/bfc_allocator.cc:1083] InUse at 7f91965ac900 of size 262144 next 128\n",
      "2022-06-09 14:43:22.079077: I tensorflow/core/common_runtime/bfc_allocator.cc:1083] InUse at 7f91965ec900 of size 327680 next 124\n",
      "2022-06-09 14:43:22.079083: I tensorflow/core/common_runtime/bfc_allocator.cc:1083] InUse at 7f919663c900 of size 589824 next 123\n",
      "2022-06-09 14:43:22.079090: I tensorflow/core/common_runtime/bfc_allocator.cc:1083] InUse at 7f91966cc900 of size 262144 next 143\n",
      "2022-06-09 14:43:22.079098: I tensorflow/core/common_runtime/bfc_allocator.cc:1083] InUse at 7f919670c900 of size 147456 next 239\n",
      "2022-06-09 14:43:22.079106: I tensorflow/core/common_runtime/bfc_allocator.cc:1083] InUse at 7f9196730900 of size 65536 next 258\n",
      "2022-06-09 14:43:22.079112: I tensorflow/core/common_runtime/bfc_allocator.cc:1083] Free  at 7f9196740900 of size 114688 next 138\n",
      "2022-06-09 14:43:22.079119: I tensorflow/core/common_runtime/bfc_allocator.cc:1083] InUse at 7f919675c900 of size 589824 next 137\n",
      "2022-06-09 14:43:22.079125: I tensorflow/core/common_runtime/bfc_allocator.cc:1083] InUse at 7f91967ec900 of size 147456 next 253\n",
      "2022-06-09 14:43:22.079131: I tensorflow/core/common_runtime/bfc_allocator.cc:1083] InUse at 7f9196810900 of size 131072 next 264\n",
      "2022-06-09 14:43:22.079137: I tensorflow/core/common_runtime/bfc_allocator.cc:1083] Free  at 7f9196830900 of size 245760 next 151\n",
      "2022-06-09 14:43:22.079144: I tensorflow/core/common_runtime/bfc_allocator.cc:1083] InUse at 7f919686c900 of size 524288 next 148\n",
      "2022-06-09 14:43:22.079150: I tensorflow/core/common_runtime/bfc_allocator.cc:1083] InUse at 7f91968ec900 of size 1048576 next 165\n",
      "2022-06-09 14:43:22.079158: I tensorflow/core/common_runtime/bfc_allocator.cc:1083] Free  at 7f91969ec900 of size 262144 next 274\n",
      "2022-06-09 14:43:22.079165: I tensorflow/core/common_runtime/bfc_allocator.cc:1083] InUse at 7f9196a2c900 of size 262144 next 263\n",
      "2022-06-09 14:43:22.079171: I tensorflow/core/common_runtime/bfc_allocator.cc:1083] InUse at 7f9196a6c900 of size 524288 next 183\n",
      "2022-06-09 14:43:22.079177: I tensorflow/core/common_runtime/bfc_allocator.cc:1083] InUse at 7f9196aec900 of size 1048576 next 150\n",
      "2022-06-09 14:43:22.079184: I tensorflow/core/common_runtime/bfc_allocator.cc:1083] InUse at 7f9196bec900 of size 2097152 next 149\n",
      "2022-06-09 14:43:22.079190: I tensorflow/core/common_runtime/bfc_allocator.cc:1083] InUse at 7f9196dec900 of size 1048576 next 172\n",
      "2022-06-09 14:43:22.079197: I tensorflow/core/common_runtime/bfc_allocator.cc:1083] InUse at 7f9196eec900 of size 262144 next 278\n",
      "2022-06-09 14:43:22.079205: I tensorflow/core/common_runtime/bfc_allocator.cc:1083] InUse at 7f9196f2c900 of size 327680 next 269\n",
      "2022-06-09 14:43:22.079214: I tensorflow/core/common_runtime/bfc_allocator.cc:1083] InUse at 7f9196f7c900 of size 720896 next 159\n",
      "2022-06-09 14:43:22.079221: I tensorflow/core/common_runtime/bfc_allocator.cc:1083] InUse at 7f919702c900 of size 2359296 next 158\n",
      "2022-06-09 14:43:22.079227: I tensorflow/core/common_runtime/bfc_allocator.cc:1083] InUse at 7f919726c900 of size 1048576 next 186\n",
      "2022-06-09 14:43:22.079233: I tensorflow/core/common_runtime/bfc_allocator.cc:1083] InUse at 7f919736c900 of size 3670016 next 178\n",
      "2022-06-09 14:43:22.079240: I tensorflow/core/common_runtime/bfc_allocator.cc:1083] InUse at 7f91976ec900 of size 2359296 next 177\n",
      "2022-06-09 14:43:22.079246: I tensorflow/core/common_runtime/bfc_allocator.cc:1083] InUse at 7f919792c900 of size 1048576 next 196\n",
      "2022-06-09 14:43:22.079255: I tensorflow/core/common_runtime/bfc_allocator.cc:1083] InUse at 7f9197a2c900 of size 1310720 next 192\n",
      "2022-06-09 14:43:22.079265: I tensorflow/core/common_runtime/bfc_allocator.cc:1083] InUse at 7f9197b6c900 of size 2473728 next 18446744073709551615\n",
      "2022-06-09 14:43:22.079272: I tensorflow/core/common_runtime/bfc_allocator.cc:1063] Next region of size 21657600\n",
      "2022-06-09 14:43:22.079278: I tensorflow/core/common_runtime/bfc_allocator.cc:1083] InUse at 7f91ca800000 of size 262144 next 294\n",
      "2022-06-09 14:43:22.079285: I tensorflow/core/common_runtime/bfc_allocator.cc:1083] InUse at 7f91ca840000 of size 327680 next 285\n",
      "2022-06-09 14:43:22.079291: I tensorflow/core/common_runtime/bfc_allocator.cc:1083] InUse at 7f91ca890000 of size 589824 next 283\n",
      "2022-06-09 14:43:22.079297: I tensorflow/core/common_runtime/bfc_allocator.cc:1083] InUse at 7f91ca920000 of size 262144 next 309\n",
      "2022-06-09 14:43:22.079306: I tensorflow/core/common_runtime/bfc_allocator.cc:1083] InUse at 7f91ca960000 of size 327680 next 300\n",
      "2022-06-09 14:43:22.079315: I tensorflow/core/common_runtime/bfc_allocator.cc:1083] InUse at 7f91ca9b0000 of size 589824 next 299\n",
      "2022-06-09 14:43:22.079321: I tensorflow/core/common_runtime/bfc_allocator.cc:1083] Free  at 7f91caa40000 of size 589824 next 315\n",
      "2022-06-09 14:43:22.079327: I tensorflow/core/common_runtime/bfc_allocator.cc:1083] InUse at 7f91caad0000 of size 589824 next 314\n",
      "2022-06-09 14:43:22.079334: I tensorflow/core/common_runtime/bfc_allocator.cc:1083] InUse at 7f91cab60000 of size 524288 next 324\n",
      "2022-06-09 14:43:22.079340: I tensorflow/core/common_runtime/bfc_allocator.cc:1083] InUse at 7f91cabe0000 of size 1048576 next 338\n",
      "2022-06-09 14:43:22.079346: I tensorflow/core/common_runtime/bfc_allocator.cc:1083] InUse at 7f91cace0000 of size 1048576 next 343\n",
      "2022-06-09 14:43:22.079353: I tensorflow/core/common_runtime/bfc_allocator.cc:1083] Free  at 7f91cade0000 of size 1572864 next 326\n",
      "2022-06-09 14:43:22.079359: I tensorflow/core/common_runtime/bfc_allocator.cc:1083] InUse at 7f91caf60000 of size 2097152 next 325\n",
      "2022-06-09 14:43:22.079369: I tensorflow/core/common_runtime/bfc_allocator.cc:1083] Free  at 7f91cb160000 of size 1048576 next 353\n",
      "2022-06-09 14:43:22.079376: I tensorflow/core/common_runtime/bfc_allocator.cc:1083] InUse at 7f91cb260000 of size 1310720 next 332\n",
      "2022-06-09 14:43:22.079382: I tensorflow/core/common_runtime/bfc_allocator.cc:1083] InUse at 7f91cb3a0000 of size 2359296 next 331\n",
      "2022-06-09 14:43:22.079388: I tensorflow/core/common_runtime/bfc_allocator.cc:1083] InUse at 7f91cb5e0000 of size 1048576 next 357\n",
      "2022-06-09 14:43:22.079395: I tensorflow/core/common_runtime/bfc_allocator.cc:1083] Free  at 7f91cb6e0000 of size 1310720 next 348\n",
      "2022-06-09 14:43:22.079401: I tensorflow/core/common_runtime/bfc_allocator.cc:1083] InUse at 7f91cb820000 of size 2359296 next 347\n",
      "2022-06-09 14:43:22.079407: I tensorflow/core/common_runtime/bfc_allocator.cc:1083] InUse at 7f91cba60000 of size 2390016 next 18446744073709551615\n",
      "2022-06-09 14:43:22.079418: I tensorflow/core/common_runtime/bfc_allocator.cc:1088]      Summary of in-use Chunks by size: \n",
      "2022-06-09 14:43:22.079428: I tensorflow/core/common_runtime/bfc_allocator.cc:1091] 95 Chunks of size 256 totalling 23.8KiB\n",
      "2022-06-09 14:43:22.079435: I tensorflow/core/common_runtime/bfc_allocator.cc:1091] 63 Chunks of size 512 totalling 31.5KiB\n",
      "2022-06-09 14:43:22.079442: I tensorflow/core/common_runtime/bfc_allocator.cc:1091] 1 Chunks of size 768 totalling 768B\n",
      "2022-06-09 14:43:22.079449: I tensorflow/core/common_runtime/bfc_allocator.cc:1091] 72 Chunks of size 1024 totalling 72.0KiB\n",
      "2022-06-09 14:43:22.079456: I tensorflow/core/common_runtime/bfc_allocator.cc:1091] 1 Chunks of size 1280 totalling 1.2KiB\n",
      "2022-06-09 14:43:22.079467: I tensorflow/core/common_runtime/bfc_allocator.cc:1091] 32 Chunks of size 2048 totalling 64.0KiB\n",
      "2022-06-09 14:43:22.079475: I tensorflow/core/common_runtime/bfc_allocator.cc:1091] 19 Chunks of size 4096 totalling 76.0KiB\n",
      "2022-06-09 14:43:22.079482: I tensorflow/core/common_runtime/bfc_allocator.cc:1091] 1 Chunks of size 6656 totalling 6.5KiB\n",
      "2022-06-09 14:43:22.079488: I tensorflow/core/common_runtime/bfc_allocator.cc:1091] 2 Chunks of size 16384 totalling 32.0KiB\n",
      "2022-06-09 14:43:22.079495: I tensorflow/core/common_runtime/bfc_allocator.cc:1091] 2 Chunks of size 37632 totalling 73.5KiB\n",
      "2022-06-09 14:43:22.079502: I tensorflow/core/common_runtime/bfc_allocator.cc:1091] 9 Chunks of size 65536 totalling 576.0KiB\n",
      "2022-06-09 14:43:22.079509: I tensorflow/core/common_runtime/bfc_allocator.cc:1091] 2 Chunks of size 98304 totalling 192.0KiB\n",
      "2022-06-09 14:43:22.079518: I tensorflow/core/common_runtime/bfc_allocator.cc:1091] 1 Chunks of size 114688 totalling 112.0KiB\n",
      "2022-06-09 14:43:22.079525: I tensorflow/core/common_runtime/bfc_allocator.cc:1091] 2 Chunks of size 131072 totalling 256.0KiB\n",
      "2022-06-09 14:43:22.079532: I tensorflow/core/common_runtime/bfc_allocator.cc:1091] 6 Chunks of size 147456 totalling 864.0KiB\n",
      "2022-06-09 14:43:22.079539: I tensorflow/core/common_runtime/bfc_allocator.cc:1091] 10 Chunks of size 262144 totalling 2.50MiB\n",
      "2022-06-09 14:43:22.079545: I tensorflow/core/common_runtime/bfc_allocator.cc:1091] 4 Chunks of size 327680 totalling 1.25MiB\n",
      "2022-06-09 14:43:22.079552: I tensorflow/core/common_runtime/bfc_allocator.cc:1091] 4 Chunks of size 524288 totalling 2.00MiB\n",
      "2022-06-09 14:43:22.079559: I tensorflow/core/common_runtime/bfc_allocator.cc:1091] 7 Chunks of size 589824 totalling 3.94MiB\n",
      "2022-06-09 14:43:22.079566: I tensorflow/core/common_runtime/bfc_allocator.cc:1091] 1 Chunks of size 720896 totalling 704.0KiB\n",
      "2022-06-09 14:43:22.079577: I tensorflow/core/common_runtime/bfc_allocator.cc:1091] 8 Chunks of size 1048576 totalling 8.00MiB\n",
      "2022-06-09 14:43:22.079584: I tensorflow/core/common_runtime/bfc_allocator.cc:1091] 2 Chunks of size 1310720 totalling 2.50MiB\n",
      "2022-06-09 14:43:22.079591: I tensorflow/core/common_runtime/bfc_allocator.cc:1091] 2 Chunks of size 2097152 totalling 4.00MiB\n",
      "2022-06-09 14:43:22.079597: I tensorflow/core/common_runtime/bfc_allocator.cc:1091] 4 Chunks of size 2359296 totalling 9.00MiB\n",
      "2022-06-09 14:43:22.079604: I tensorflow/core/common_runtime/bfc_allocator.cc:1091] 1 Chunks of size 2390016 totalling 2.28MiB\n",
      "2022-06-09 14:43:22.079611: I tensorflow/core/common_runtime/bfc_allocator.cc:1091] 1 Chunks of size 2473728 totalling 2.36MiB\n",
      "2022-06-09 14:43:22.079620: I tensorflow/core/common_runtime/bfc_allocator.cc:1091] 1 Chunks of size 3670016 totalling 3.50MiB\n",
      "2022-06-09 14:43:22.079630: I tensorflow/core/common_runtime/bfc_allocator.cc:1095] Sum Total of in-use chunks: 44.34MiB\n",
      "2022-06-09 14:43:22.079636: I tensorflow/core/common_runtime/bfc_allocator.cc:1097] total_region_allocated_bytes_: 52887552 memory_limit_: 52887552 available bytes: 0 curr_region_allocation_bytes_: 211550208\n",
      "2022-06-09 14:43:22.079645: I tensorflow/core/common_runtime/bfc_allocator.cc:1103] Stats: \n",
      "Limit:                        52887552\n",
      "InUse:                        46492672\n",
      "MaxInUse:                     46719744\n",
      "NumAllocs:                         554\n",
      "MaxAllocSize:                  3670016\n",
      "Reserved:                            0\n",
      "PeakReserved:                        0\n",
      "LargestFreeBlock:                    0\n",
      "\n",
      "2022-06-09 14:43:22.079662: W tensorflow/core/common_runtime/bfc_allocator.cc:491] *********_*********************************xx**************************__*****_**********__*********\n",
      "2022-06-09 14:43:22.079674: W tensorflow/core/framework/op_kernel.cc:1733] RESOURCE_EXHAUSTED: failed to allocate memory\n"
     ]
    },
    {
     "ename": "ResourceExhaustedError",
     "evalue": "failed to allocate memory [Op:Mul]",
     "output_type": "error",
     "traceback": [
      "\u001b[0;31m---------------------------------------------------------------------------\u001b[0m",
      "\u001b[0;31mResourceExhaustedError\u001b[0m                    Traceback (most recent call last)",
      "Input \u001b[0;32mIn [10]\u001b[0m, in \u001b[0;36m<cell line: 1>\u001b[0;34m()\u001b[0m\n\u001b[0;32m----> 1\u001b[0m model \u001b[38;5;241m=\u001b[39m \u001b[43msm\u001b[49m\u001b[38;5;241;43m.\u001b[39;49m\u001b[43mUnet\u001b[49m\u001b[43m(\u001b[49m\u001b[38;5;124;43m'\u001b[39;49m\u001b[38;5;124;43mresnet50\u001b[39;49m\u001b[38;5;124;43m'\u001b[39;49m\u001b[43m,\u001b[49m\u001b[43m \u001b[49m\u001b[43mclasses\u001b[49m\u001b[38;5;241;43m=\u001b[39;49m\u001b[38;5;241;43m11\u001b[39;49m\u001b[43m,\u001b[49m\u001b[43m \u001b[49m\u001b[43mactivation\u001b[49m\u001b[38;5;241;43m=\u001b[39;49m\u001b[38;5;124;43m'\u001b[39;49m\u001b[38;5;124;43msoftmax\u001b[39;49m\u001b[38;5;124;43m'\u001b[39;49m\u001b[43m,\u001b[49m\u001b[43m \u001b[49m\u001b[43mencoder_weights\u001b[49m\u001b[38;5;241;43m=\u001b[39;49m\u001b[38;5;124;43m'\u001b[39;49m\u001b[38;5;124;43mimagenet\u001b[39;49m\u001b[38;5;124;43m'\u001b[39;49m\u001b[43m)\u001b[49m\n",
      "File \u001b[0;32m~/anaconda3/envs/env/lib/python3.10/site-packages/segmentation_models/__init__.py:34\u001b[0m, in \u001b[0;36minject_global_submodules.<locals>.wrapper\u001b[0;34m(*args, **kwargs)\u001b[0m\n\u001b[1;32m     32\u001b[0m kwargs[\u001b[38;5;124m'\u001b[39m\u001b[38;5;124mmodels\u001b[39m\u001b[38;5;124m'\u001b[39m] \u001b[38;5;241m=\u001b[39m _KERAS_MODELS\n\u001b[1;32m     33\u001b[0m kwargs[\u001b[38;5;124m'\u001b[39m\u001b[38;5;124mutils\u001b[39m\u001b[38;5;124m'\u001b[39m] \u001b[38;5;241m=\u001b[39m _KERAS_UTILS\n\u001b[0;32m---> 34\u001b[0m \u001b[38;5;28;01mreturn\u001b[39;00m \u001b[43mfunc\u001b[49m\u001b[43m(\u001b[49m\u001b[38;5;241;43m*\u001b[39;49m\u001b[43margs\u001b[49m\u001b[43m,\u001b[49m\u001b[43m \u001b[49m\u001b[38;5;241;43m*\u001b[39;49m\u001b[38;5;241;43m*\u001b[39;49m\u001b[43mkwargs\u001b[49m\u001b[43m)\u001b[49m\n",
      "File \u001b[0;32m~/anaconda3/envs/env/lib/python3.10/site-packages/segmentation_models/models/unet.py:221\u001b[0m, in \u001b[0;36mUnet\u001b[0;34m(backbone_name, input_shape, classes, activation, weights, encoder_weights, encoder_freeze, encoder_features, decoder_block_type, decoder_filters, decoder_use_batchnorm, **kwargs)\u001b[0m\n\u001b[1;32m    217\u001b[0m \u001b[38;5;28;01melse\u001b[39;00m:\n\u001b[1;32m    218\u001b[0m     \u001b[38;5;28;01mraise\u001b[39;00m \u001b[38;5;167;01mValueError\u001b[39;00m(\u001b[38;5;124m'\u001b[39m\u001b[38;5;124mDecoder block type should be in (\u001b[39m\u001b[38;5;124m\"\u001b[39m\u001b[38;5;124mupsampling\u001b[39m\u001b[38;5;124m\"\u001b[39m\u001b[38;5;124m, \u001b[39m\u001b[38;5;124m\"\u001b[39m\u001b[38;5;124mtranspose\u001b[39m\u001b[38;5;124m\"\u001b[39m\u001b[38;5;124m). \u001b[39m\u001b[38;5;124m'\u001b[39m\n\u001b[1;32m    219\u001b[0m                      \u001b[38;5;124m'\u001b[39m\u001b[38;5;124mGot: \u001b[39m\u001b[38;5;132;01m{}\u001b[39;00m\u001b[38;5;124m'\u001b[39m\u001b[38;5;241m.\u001b[39mformat(decoder_block_type))\n\u001b[0;32m--> 221\u001b[0m backbone \u001b[38;5;241m=\u001b[39m \u001b[43mBackbones\u001b[49m\u001b[38;5;241;43m.\u001b[39;49m\u001b[43mget_backbone\u001b[49m\u001b[43m(\u001b[49m\n\u001b[1;32m    222\u001b[0m \u001b[43m    \u001b[49m\u001b[43mbackbone_name\u001b[49m\u001b[43m,\u001b[49m\n\u001b[1;32m    223\u001b[0m \u001b[43m    \u001b[49m\u001b[43minput_shape\u001b[49m\u001b[38;5;241;43m=\u001b[39;49m\u001b[43minput_shape\u001b[49m\u001b[43m,\u001b[49m\n\u001b[1;32m    224\u001b[0m \u001b[43m    \u001b[49m\u001b[43mweights\u001b[49m\u001b[38;5;241;43m=\u001b[39;49m\u001b[43mencoder_weights\u001b[49m\u001b[43m,\u001b[49m\n\u001b[1;32m    225\u001b[0m \u001b[43m    \u001b[49m\u001b[43minclude_top\u001b[49m\u001b[38;5;241;43m=\u001b[39;49m\u001b[38;5;28;43;01mFalse\u001b[39;49;00m\u001b[43m,\u001b[49m\n\u001b[1;32m    226\u001b[0m \u001b[43m    \u001b[49m\u001b[38;5;241;43m*\u001b[39;49m\u001b[38;5;241;43m*\u001b[39;49m\u001b[43mkwargs\u001b[49m\u001b[43m,\u001b[49m\n\u001b[1;32m    227\u001b[0m \u001b[43m\u001b[49m\u001b[43m)\u001b[49m\n\u001b[1;32m    229\u001b[0m \u001b[38;5;28;01mif\u001b[39;00m encoder_features \u001b[38;5;241m==\u001b[39m \u001b[38;5;124m'\u001b[39m\u001b[38;5;124mdefault\u001b[39m\u001b[38;5;124m'\u001b[39m:\n\u001b[1;32m    230\u001b[0m     encoder_features \u001b[38;5;241m=\u001b[39m Backbones\u001b[38;5;241m.\u001b[39mget_feature_layers(backbone_name, n\u001b[38;5;241m=\u001b[39m\u001b[38;5;241m4\u001b[39m)\n",
      "File \u001b[0;32m~/anaconda3/envs/env/lib/python3.10/site-packages/segmentation_models/backbones/backbones_factory.py:103\u001b[0m, in \u001b[0;36mBackbonesFactory.get_backbone\u001b[0;34m(self, name, *args, **kwargs)\u001b[0m\n\u001b[1;32m    101\u001b[0m \u001b[38;5;28;01mdef\u001b[39;00m \u001b[38;5;21mget_backbone\u001b[39m(\u001b[38;5;28mself\u001b[39m, name, \u001b[38;5;241m*\u001b[39margs, \u001b[38;5;241m*\u001b[39m\u001b[38;5;241m*\u001b[39mkwargs):\n\u001b[1;32m    102\u001b[0m     model_fn, _ \u001b[38;5;241m=\u001b[39m \u001b[38;5;28mself\u001b[39m\u001b[38;5;241m.\u001b[39mget(name)\n\u001b[0;32m--> 103\u001b[0m     model \u001b[38;5;241m=\u001b[39m \u001b[43mmodel_fn\u001b[49m\u001b[43m(\u001b[49m\u001b[38;5;241;43m*\u001b[39;49m\u001b[43margs\u001b[49m\u001b[43m,\u001b[49m\u001b[43m \u001b[49m\u001b[38;5;241;43m*\u001b[39;49m\u001b[38;5;241;43m*\u001b[39;49m\u001b[43mkwargs\u001b[49m\u001b[43m)\u001b[49m\n\u001b[1;32m    104\u001b[0m     \u001b[38;5;28;01mreturn\u001b[39;00m model\n",
      "File \u001b[0;32m~/anaconda3/envs/env/lib/python3.10/site-packages/classification_models/models_factory.py:78\u001b[0m, in \u001b[0;36mModelsFactory.inject_submodules.<locals>.wrapper\u001b[0;34m(*args, **kwargs)\u001b[0m\n\u001b[1;32m     76\u001b[0m modules_kwargs \u001b[38;5;241m=\u001b[39m \u001b[38;5;28mself\u001b[39m\u001b[38;5;241m.\u001b[39mget_kwargs()\n\u001b[1;32m     77\u001b[0m new_kwargs \u001b[38;5;241m=\u001b[39m \u001b[38;5;28mdict\u001b[39m(\u001b[38;5;28mlist\u001b[39m(kwargs\u001b[38;5;241m.\u001b[39mitems()) \u001b[38;5;241m+\u001b[39m \u001b[38;5;28mlist\u001b[39m(modules_kwargs\u001b[38;5;241m.\u001b[39mitems()))\n\u001b[0;32m---> 78\u001b[0m \u001b[38;5;28;01mreturn\u001b[39;00m \u001b[43mfunc\u001b[49m\u001b[43m(\u001b[49m\u001b[38;5;241;43m*\u001b[39;49m\u001b[43margs\u001b[49m\u001b[43m,\u001b[49m\u001b[43m \u001b[49m\u001b[38;5;241;43m*\u001b[39;49m\u001b[38;5;241;43m*\u001b[39;49m\u001b[43mnew_kwargs\u001b[49m\u001b[43m)\u001b[49m\n",
      "File \u001b[0;32m~/anaconda3/envs/env/lib/python3.10/site-packages/classification_models/models/resnet.py:326\u001b[0m, in \u001b[0;36mResNet50\u001b[0;34m(input_shape, input_tensor, weights, classes, include_top, **kwargs)\u001b[0m\n\u001b[1;32m    325\u001b[0m \u001b[38;5;28;01mdef\u001b[39;00m \u001b[38;5;21mResNet50\u001b[39m(input_shape\u001b[38;5;241m=\u001b[39m\u001b[38;5;28;01mNone\u001b[39;00m, input_tensor\u001b[38;5;241m=\u001b[39m\u001b[38;5;28;01mNone\u001b[39;00m, weights\u001b[38;5;241m=\u001b[39m\u001b[38;5;28;01mNone\u001b[39;00m, classes\u001b[38;5;241m=\u001b[39m\u001b[38;5;241m1000\u001b[39m, include_top\u001b[38;5;241m=\u001b[39m\u001b[38;5;28;01mTrue\u001b[39;00m, \u001b[38;5;241m*\u001b[39m\u001b[38;5;241m*\u001b[39mkwargs):\n\u001b[0;32m--> 326\u001b[0m     \u001b[38;5;28;01mreturn\u001b[39;00m \u001b[43mResNet\u001b[49m\u001b[43m(\u001b[49m\n\u001b[1;32m    327\u001b[0m \u001b[43m        \u001b[49m\u001b[43mMODELS_PARAMS\u001b[49m\u001b[43m[\u001b[49m\u001b[38;5;124;43m'\u001b[39;49m\u001b[38;5;124;43mresnet50\u001b[39;49m\u001b[38;5;124;43m'\u001b[39;49m\u001b[43m]\u001b[49m\u001b[43m,\u001b[49m\n\u001b[1;32m    328\u001b[0m \u001b[43m        \u001b[49m\u001b[43minput_shape\u001b[49m\u001b[38;5;241;43m=\u001b[39;49m\u001b[43minput_shape\u001b[49m\u001b[43m,\u001b[49m\n\u001b[1;32m    329\u001b[0m \u001b[43m        \u001b[49m\u001b[43minput_tensor\u001b[49m\u001b[38;5;241;43m=\u001b[39;49m\u001b[43minput_tensor\u001b[49m\u001b[43m,\u001b[49m\n\u001b[1;32m    330\u001b[0m \u001b[43m        \u001b[49m\u001b[43minclude_top\u001b[49m\u001b[38;5;241;43m=\u001b[39;49m\u001b[43minclude_top\u001b[49m\u001b[43m,\u001b[49m\n\u001b[1;32m    331\u001b[0m \u001b[43m        \u001b[49m\u001b[43mclasses\u001b[49m\u001b[38;5;241;43m=\u001b[39;49m\u001b[43mclasses\u001b[49m\u001b[43m,\u001b[49m\n\u001b[1;32m    332\u001b[0m \u001b[43m        \u001b[49m\u001b[43mweights\u001b[49m\u001b[38;5;241;43m=\u001b[39;49m\u001b[43mweights\u001b[49m\u001b[43m,\u001b[49m\n\u001b[1;32m    333\u001b[0m \u001b[43m        \u001b[49m\u001b[38;5;241;43m*\u001b[39;49m\u001b[38;5;241;43m*\u001b[39;49m\u001b[43mkwargs\u001b[49m\n\u001b[1;32m    334\u001b[0m \u001b[43m    \u001b[49m\u001b[43m)\u001b[49m\n",
      "File \u001b[0;32m~/anaconda3/envs/env/lib/python3.10/site-packages/classification_models/models/resnet.py:255\u001b[0m, in \u001b[0;36mResNet\u001b[0;34m(model_params, input_shape, input_tensor, include_top, classes, weights, **kwargs)\u001b[0m\n\u001b[1;32m    251\u001b[0m             x \u001b[38;5;241m=\u001b[39m ResidualBlock(filters, stage, block, strides\u001b[38;5;241m=\u001b[39m(\u001b[38;5;241m2\u001b[39m, \u001b[38;5;241m2\u001b[39m),\n\u001b[1;32m    252\u001b[0m                               cut\u001b[38;5;241m=\u001b[39m\u001b[38;5;124m'\u001b[39m\u001b[38;5;124mpost\u001b[39m\u001b[38;5;124m'\u001b[39m, attention\u001b[38;5;241m=\u001b[39mAttention)(x)\n\u001b[1;32m    254\u001b[0m         \u001b[38;5;28;01melse\u001b[39;00m:\n\u001b[0;32m--> 255\u001b[0m             x \u001b[38;5;241m=\u001b[39m \u001b[43mResidualBlock\u001b[49m\u001b[43m(\u001b[49m\u001b[43mfilters\u001b[49m\u001b[43m,\u001b[49m\u001b[43m \u001b[49m\u001b[43mstage\u001b[49m\u001b[43m,\u001b[49m\u001b[43m \u001b[49m\u001b[43mblock\u001b[49m\u001b[43m,\u001b[49m\u001b[43m \u001b[49m\u001b[43mstrides\u001b[49m\u001b[38;5;241;43m=\u001b[39;49m\u001b[43m(\u001b[49m\u001b[38;5;241;43m1\u001b[39;49m\u001b[43m,\u001b[49m\u001b[43m \u001b[49m\u001b[38;5;241;43m1\u001b[39;49m\u001b[43m)\u001b[49m\u001b[43m,\u001b[49m\n\u001b[1;32m    256\u001b[0m \u001b[43m                              \u001b[49m\u001b[43mcut\u001b[49m\u001b[38;5;241;43m=\u001b[39;49m\u001b[38;5;124;43m'\u001b[39;49m\u001b[38;5;124;43mpre\u001b[39;49m\u001b[38;5;124;43m'\u001b[39;49m\u001b[43m,\u001b[49m\u001b[43m \u001b[49m\u001b[43mattention\u001b[49m\u001b[38;5;241;43m=\u001b[39;49m\u001b[43mAttention\u001b[49m\u001b[43m)\u001b[49m\u001b[43m(\u001b[49m\u001b[43mx\u001b[49m\u001b[43m)\u001b[49m\n\u001b[1;32m    258\u001b[0m x \u001b[38;5;241m=\u001b[39m layers\u001b[38;5;241m.\u001b[39mBatchNormalization(name\u001b[38;5;241m=\u001b[39m\u001b[38;5;124m'\u001b[39m\u001b[38;5;124mbn1\u001b[39m\u001b[38;5;124m'\u001b[39m, \u001b[38;5;241m*\u001b[39m\u001b[38;5;241m*\u001b[39mbn_params)(x)\n\u001b[1;32m    259\u001b[0m x \u001b[38;5;241m=\u001b[39m layers\u001b[38;5;241m.\u001b[39mActivation(\u001b[38;5;124m'\u001b[39m\u001b[38;5;124mrelu\u001b[39m\u001b[38;5;124m'\u001b[39m, name\u001b[38;5;241m=\u001b[39m\u001b[38;5;124m'\u001b[39m\u001b[38;5;124mrelu1\u001b[39m\u001b[38;5;124m'\u001b[39m)(x)\n",
      "File \u001b[0;32m~/anaconda3/envs/env/lib/python3.10/site-packages/classification_models/models/resnet.py:150\u001b[0m, in \u001b[0;36mresidual_bottleneck_block.<locals>.layer\u001b[0;34m(input_tensor)\u001b[0m\n\u001b[1;32m    148\u001b[0m x \u001b[38;5;241m=\u001b[39m layers\u001b[38;5;241m.\u001b[39mActivation(\u001b[38;5;124m'\u001b[39m\u001b[38;5;124mrelu\u001b[39m\u001b[38;5;124m'\u001b[39m, name\u001b[38;5;241m=\u001b[39mrelu_name \u001b[38;5;241m+\u001b[39m \u001b[38;5;124m'\u001b[39m\u001b[38;5;124m2\u001b[39m\u001b[38;5;124m'\u001b[39m)(x)\n\u001b[1;32m    149\u001b[0m x \u001b[38;5;241m=\u001b[39m layers\u001b[38;5;241m.\u001b[39mZeroPadding2D(padding\u001b[38;5;241m=\u001b[39m(\u001b[38;5;241m1\u001b[39m, \u001b[38;5;241m1\u001b[39m))(x)\n\u001b[0;32m--> 150\u001b[0m x \u001b[38;5;241m=\u001b[39m \u001b[43mlayers\u001b[49m\u001b[38;5;241;43m.\u001b[39;49m\u001b[43mConv2D\u001b[49m\u001b[43m(\u001b[49m\u001b[43mfilters\u001b[49m\u001b[43m,\u001b[49m\u001b[43m \u001b[49m\u001b[43m(\u001b[49m\u001b[38;5;241;43m3\u001b[39;49m\u001b[43m,\u001b[49m\u001b[43m \u001b[49m\u001b[38;5;241;43m3\u001b[39;49m\u001b[43m)\u001b[49m\u001b[43m,\u001b[49m\u001b[43m \u001b[49m\u001b[43mstrides\u001b[49m\u001b[38;5;241;43m=\u001b[39;49m\u001b[43mstrides\u001b[49m\u001b[43m,\u001b[49m\u001b[43m \u001b[49m\u001b[43mname\u001b[49m\u001b[38;5;241;43m=\u001b[39;49m\u001b[43mconv_name\u001b[49m\u001b[43m \u001b[49m\u001b[38;5;241;43m+\u001b[39;49m\u001b[43m \u001b[49m\u001b[38;5;124;43m'\u001b[39;49m\u001b[38;5;124;43m2\u001b[39;49m\u001b[38;5;124;43m'\u001b[39;49m\u001b[43m,\u001b[49m\u001b[43m \u001b[49m\u001b[38;5;241;43m*\u001b[39;49m\u001b[38;5;241;43m*\u001b[39;49m\u001b[43mconv_params\u001b[49m\u001b[43m)\u001b[49m\u001b[43m(\u001b[49m\u001b[43mx\u001b[49m\u001b[43m)\u001b[49m\n\u001b[1;32m    152\u001b[0m x \u001b[38;5;241m=\u001b[39m layers\u001b[38;5;241m.\u001b[39mBatchNormalization(name\u001b[38;5;241m=\u001b[39mbn_name \u001b[38;5;241m+\u001b[39m \u001b[38;5;124m'\u001b[39m\u001b[38;5;124m3\u001b[39m\u001b[38;5;124m'\u001b[39m, \u001b[38;5;241m*\u001b[39m\u001b[38;5;241m*\u001b[39mbn_params)(x)\n\u001b[1;32m    153\u001b[0m x \u001b[38;5;241m=\u001b[39m layers\u001b[38;5;241m.\u001b[39mActivation(\u001b[38;5;124m'\u001b[39m\u001b[38;5;124mrelu\u001b[39m\u001b[38;5;124m'\u001b[39m, name\u001b[38;5;241m=\u001b[39mrelu_name \u001b[38;5;241m+\u001b[39m \u001b[38;5;124m'\u001b[39m\u001b[38;5;124m3\u001b[39m\u001b[38;5;124m'\u001b[39m)(x)\n",
      "File \u001b[0;32m~/anaconda3/envs/env/lib/python3.10/site-packages/keras/utils/traceback_utils.py:67\u001b[0m, in \u001b[0;36mfilter_traceback.<locals>.error_handler\u001b[0;34m(*args, **kwargs)\u001b[0m\n\u001b[1;32m     65\u001b[0m \u001b[38;5;28;01mexcept\u001b[39;00m \u001b[38;5;167;01mException\u001b[39;00m \u001b[38;5;28;01mas\u001b[39;00m e:  \u001b[38;5;66;03m# pylint: disable=broad-except\u001b[39;00m\n\u001b[1;32m     66\u001b[0m   filtered_tb \u001b[38;5;241m=\u001b[39m _process_traceback_frames(e\u001b[38;5;241m.\u001b[39m__traceback__)\n\u001b[0;32m---> 67\u001b[0m   \u001b[38;5;28;01mraise\u001b[39;00m e\u001b[38;5;241m.\u001b[39mwith_traceback(filtered_tb) \u001b[38;5;28;01mfrom\u001b[39;00m \u001b[38;5;28mNone\u001b[39m\n\u001b[1;32m     68\u001b[0m \u001b[38;5;28;01mfinally\u001b[39;00m:\n\u001b[1;32m     69\u001b[0m   \u001b[38;5;28;01mdel\u001b[39;00m filtered_tb\n",
      "File \u001b[0;32m~/anaconda3/envs/env/lib/python3.10/site-packages/keras/backend.py:1920\u001b[0m, in \u001b[0;36mRandomGenerator.random_uniform\u001b[0;34m(self, shape, minval, maxval, dtype)\u001b[0m\n\u001b[1;32m   1917\u001b[0m \u001b[38;5;28;01mif\u001b[39;00m \u001b[38;5;28mself\u001b[39m\u001b[38;5;241m.\u001b[39m_generator:\n\u001b[1;32m   1918\u001b[0m   \u001b[38;5;28;01mreturn\u001b[39;00m \u001b[38;5;28mself\u001b[39m\u001b[38;5;241m.\u001b[39m_generator\u001b[38;5;241m.\u001b[39muniform(\n\u001b[1;32m   1919\u001b[0m       shape\u001b[38;5;241m=\u001b[39mshape, minval\u001b[38;5;241m=\u001b[39mminval, maxval\u001b[38;5;241m=\u001b[39mmaxval, dtype\u001b[38;5;241m=\u001b[39mdtype)\n\u001b[0;32m-> 1920\u001b[0m \u001b[38;5;28;01mreturn\u001b[39;00m \u001b[43mtf\u001b[49m\u001b[38;5;241;43m.\u001b[39;49m\u001b[43mrandom\u001b[49m\u001b[38;5;241;43m.\u001b[39;49m\u001b[43muniform\u001b[49m\u001b[43m(\u001b[49m\n\u001b[1;32m   1921\u001b[0m \u001b[43m    \u001b[49m\u001b[43mshape\u001b[49m\u001b[38;5;241;43m=\u001b[39;49m\u001b[43mshape\u001b[49m\u001b[43m,\u001b[49m\u001b[43m \u001b[49m\u001b[43mminval\u001b[49m\u001b[38;5;241;43m=\u001b[39;49m\u001b[43mminval\u001b[49m\u001b[43m,\u001b[49m\u001b[43m \u001b[49m\u001b[43mmaxval\u001b[49m\u001b[38;5;241;43m=\u001b[39;49m\u001b[43mmaxval\u001b[49m\u001b[43m,\u001b[49m\u001b[43m \u001b[49m\u001b[43mdtype\u001b[49m\u001b[38;5;241;43m=\u001b[39;49m\u001b[43mdtype\u001b[49m\u001b[43m,\u001b[49m\n\u001b[1;32m   1922\u001b[0m \u001b[43m    \u001b[49m\u001b[43mseed\u001b[49m\u001b[38;5;241;43m=\u001b[39;49m\u001b[38;5;28;43mself\u001b[39;49m\u001b[38;5;241;43m.\u001b[39;49m\u001b[43mmake_legacy_seed\u001b[49m\u001b[43m(\u001b[49m\u001b[43m)\u001b[49m\u001b[43m)\u001b[49m\n",
      "\u001b[0;31mResourceExhaustedError\u001b[0m: failed to allocate memory [Op:Mul]"
     ]
    }
   ],
   "source": [
    "model = sm.Unet('resnet50', classes=11, activation='softmax', encoder_weights='imagenet')"
   ]
  },
  {
   "cell_type": "code",
   "execution_count": null,
   "metadata": {
    "id": "zLYQeEUL67-h"
   },
   "outputs": [],
   "source": [
    "model.summary()"
   ]
  },
  {
   "cell_type": "code",
   "execution_count": 11,
   "metadata": {
    "id": "XoMu153Kju83"
   },
   "outputs": [],
   "source": [
    "def LoadData (path1, path2):\n",
    "    \"\"\"\n",
    "    Looks for relevant filenames in the shared path\n",
    "    Returns 2 lists for original and masked files respectively\n",
    "    \n",
    "    \"\"\"\n",
    "    # Read the images folder like a list\n",
    "    image_dataset = os.listdir(path1)\n",
    "    mask_dataset = os.listdir(path2)\n",
    "\n",
    "    # Make a list for images and masks filenames\n",
    "    orig_img = []\n",
    "    mask_img = []\n",
    "    for file in image_dataset:\n",
    "        orig_img.append(file)\n",
    "    for file in mask_dataset:\n",
    "        mask_img.append(file)\n",
    "\n",
    "    # Sort the lists to get both of them in same order (the dataset has exactly the same name for images and corresponding masks)\n",
    "    orig_img.sort()\n",
    "    mask_img.sort()\n",
    "    \n",
    "    return orig_img, mask_img"
   ]
  },
  {
   "cell_type": "code",
   "execution_count": 12,
   "metadata": {
    "id": "3KT3kVlpjwU5"
   },
   "outputs": [],
   "source": [
    "def PreprocessData(img, mask, target_shape_img, target_shape_mask, path1, path2):\n",
    "    \"\"\"\n",
    "    Processes the images and mask present in the shared list and path\n",
    "    Returns a NumPy dataset with images as 3-D arrays of desired size\n",
    "    Please note the masks in this dataset have only one channel\n",
    "    \"\"\"\n",
    "    # Pull the relevant dimensions for image and mask\n",
    "    m = len(img)                     # number of images\n",
    "    i_h,i_w,i_c = target_shape_img   # pull height, width, and channels of image\n",
    "    m_h,m_w,m_c = target_shape_mask  # pull height, width, and channels of mask\n",
    "    \n",
    "    # Define X and Y as number of images along with shape of one image\n",
    "    X = np.zeros((m,i_h,i_w,i_c), dtype=np.float32)\n",
    "    y = np.zeros((m,m_h,m_w,m_c), dtype=np.float32)\n",
    "    \n",
    "    # Resize images and masks\n",
    "    for file in img:\n",
    "        # convert image into an array of desired shape (3 channels)\n",
    "        index = img.index(file)\n",
    "        path = os.path.join(path1, file)\n",
    "        single_img = Image.open(path)\n",
    "        single_img = single_img.resize((i_h,i_w))\n",
    "        single_img = np.reshape(single_img,(i_h,i_w,i_c)) \n",
    "        single_img = single_img/256.\n",
    "        X[index] = single_img\n",
    "        \n",
    "        # convert mask into an array of desired shape (1 channel)\n",
    "        single_mask_ind = mask[index]\n",
    "        path = os.path.join(path2, single_mask_ind)\n",
    "        single_mask = Image.open(path)\n",
    "        single_mask = ImageOps.grayscale(single_mask)\n",
    "        single_mask = single_mask.resize((m_h, m_w))\n",
    "        single_mask = np.reshape(single_mask,(m_h,m_w,m_c)) \n",
    "        single_mask = single_mask - 1 # to ensure classes #s start from 0\n",
    "        y[index] = single_mask\n",
    "    return X, y"
   ]
  },
  {
   "cell_type": "code",
   "execution_count": 14,
   "metadata": {
    "id": "Va9eLud8kSSt"
   },
   "outputs": [
    {
     "name": "stdout",
     "output_type": "stream",
     "text": [
      "1442\n"
     ]
    }
   ],
   "source": [
    "path1 = './dataset/images/'\n",
    "path2 = './dataset/masks/'\n",
    "img, mask = LoadData (path1, path2)\n",
    "print(len(img))\n",
    "# View an example of image and corresponding mask \n",
    "# show_images = 2\n",
    "# # for i in range(show_images):\n",
    "# img_view  = imageio.imread(path1 + img[1])\n",
    "# mask_view = imageio.imread(path2 + mask[1])\n",
    "# print(img_view.shape)\n",
    "# print(mask_view.shape)\n",
    "# fig, arr = plt.subplots(1, 2, figsize=(15, 15))\n",
    "# arr[0].imshow(img_view)\n",
    "# arr[0].set_title('Image '+ str(1))\n",
    "# arr[1].imshow(mask_view)\n",
    "# arr[1].set_title('Masked Image '+ str(1))"
   ]
  },
  {
   "cell_type": "code",
   "execution_count": 15,
   "metadata": {
    "id": "0gCUuXUkt4QO"
   },
   "outputs": [
    {
     "name": "stdout",
     "output_type": "stream",
     "text": [
      "X Shape: (1442, 128, 128, 3)\n",
      "Y shape: (1442, 128, 128, 1)\n",
      "[  0.   1.   2.   3.   4.   5.   6.   7.   8.   9. 255.]\n"
     ]
    },
    {
     "data": {
      "text/plain": [
       "Text(0.5, 1.0, 'Processed Masked Image ')"
      ]
     },
     "execution_count": 15,
     "metadata": {},
     "output_type": "execute_result"
    },
    {
     "data": {
      "image/png": "[encoded data removed]",
      "text/plain": [
       "<Figure size 1080x1080 with 2 Axes>"
      ]
     },
     "metadata": {
      "needs_background": "light"
     },
     "output_type": "display_data"
    }
   ],
   "source": [
    "# Define the desired shape\n",
    "target_shape_img = [128, 128, 3]\n",
    "target_shape_mask = [128, 128, 1]\n",
    "\n",
    "# Process data using apt helper function\n",
    "X, y = PreprocessData(img, mask, target_shape_img, target_shape_mask, path1, path2)\n",
    "\n",
    "# QC the shape of output and classes in output dataset \n",
    "print(\"X Shape:\", X.shape)\n",
    "print(\"Y shape:\", y.shape)\n",
    "# There are 3 classes : background, pet, outline\n",
    "print(np.unique(y))\n",
    "\n",
    "# Visualize the output\n",
    "image_index = 0\n",
    "fig, arr = plt.subplots(1, 2, figsize=(15, 15))\n",
    "arr[0].imshow(X[image_index])\n",
    "arr[0].set_title('Processed Image')\n",
    "arr[1].imshow(y[image_index,:,:,0])\n",
    "arr[1].set_title('Processed Masked Image ')"
   ]
  },
  {
   "cell_type": "code",
   "execution_count": null,
   "metadata": {
    "id": "sqmkQcCCvrns"
   },
   "outputs": [],
   "source": [
    "\n",
    "# Use scikit-learn's function to split the dataset\n",
    "# Here, I have used 20% data as test/valid set\n",
    "X_train, X_valid, y_train, y_valid = train_test_split(X, y, test_size=0.2, random_state=seed)\n",
    "\n",
    "\n",
    "# def train_preprocess(img, label):\n",
    "#   img /= 255\n",
    "#   img = tf.cast(img, tf.float32)\n",
    "#   img = tf.image.resize_with_pad(img, 32+4, 32+4)\n",
    "#   img = tf.image.random_crop(img, size=[32, 32, 3])\n",
    "#   img = tf.image.stateless_random_flip_left_right(img, (15, 13))\n",
    "#   return img, label\n",
    "\n",
    "# def test_preprocess(img, label):\n",
    "#   img = tf.cast(img, tf.float32)\n",
    "#   img /= 255\n",
    "#   return img, label"
   ]
  },
  {
   "cell_type": "code",
   "execution_count": null,
   "metadata": {
    "id": "t9v0L6Mwwqm8"
   },
   "outputs": [],
   "source": [
    "model.compile(\n",
    "    K.optimizers.Adam(0.0001),\n",
    "    loss=sm.losses.CategoricalFocalLoss(),\n",
    "    metrics=[sm.metrics.IOUScore(threshold=0.5), sm.metrics.FScore(threshold=0.5)],\n",
    ")"
   ]
  },
  {
   "cell_type": "code",
   "execution_count": null,
   "metadata": {
    "id": "z9slrZifwtTz"
   },
   "outputs": [],
   "source": [
    "# results = unet.fit(X_train, y_train, batch_size=32, epochs=40, validation_data=(X_valid, y_valid))\n",
    "\n",
    "results = model.fit(\n",
    "   x=X_train,\n",
    "   y=y_train,\n",
    "   batch_size=16,\n",
    "   epochs=100,\n",
    "   validation_data=(X_valid, y_valid),\n",
    ")"
   ]
  },
  {
   "cell_type": "code",
   "execution_count": null,
   "metadata": {
    "id": "aacPwiwYJdci"
   },
   "outputs": [],
   "source": [
    "# Save the model\n",
    "model.save('drive/MyDrive/Seg/models/standard_training_UnetResnet.h5')"
   ]
  },
  {
   "cell_type": "code",
   "execution_count": null,
   "metadata": {
    "id": "bNzLsKMwhS1b"
   },
   "outputs": [],
   "source": [
    "def norm(Z):\n",
    "    \"\"\"Compute norms over all but the first dimension\"\"\"\n",
    "    return tf.norm(tf.reshape(Z, (Z.shape[0], -1)), axis=1)\n",
    "\n",
    "# PGD L2 for Adversarial Examples #\n",
    "def single_pgd_step_adv(model, X, y, alpha, epsilon, delta):\n",
    "    with tf.GradientTape() as tape:\n",
    "        tape.watch(delta)\n",
    "        loss = tf.keras.losses.SparseCategoricalCrossentropy(\n",
    "            from_logits=True,\n",
    "            reduction=tf.keras.losses.Reduction.NONE # Use no aggregation - will give gradient separtely for each ex.\n",
    "            )(y, model(X + delta)) # comparing to label for original data point\n",
    "    grad = tape.gradient(loss, delta)\n",
    "\n",
    "    normgrad = tf.reshape(norm(grad), (-1, 1, 1, 1))\n",
    "    z = delta + alpha * (grad / (normgrad + 1e-10))\n",
    "\n",
    "    normz = tf.reshape(norm(z), (-1, 1, 1, 1))\n",
    "    delta = epsilon * z / (tf.math.maximum(normz, epsilon) + 1e-10)\n",
    "    return delta, loss\n",
    "\n",
    "def pgd_l2_adv(model, X, y, alpha, num_iter, epsilon=0, example=False):\n",
    "    fn = tf.function(single_pgd_step_adv)\n",
    "    delta = tf.zeros_like(X)\n",
    "    loss = 0\n",
    "    for t in range(num_iter):\n",
    "        delta, loss = fn(model, X, y, alpha, epsilon, delta)\n",
    "        \n",
    "    if example:\n",
    "        print(f'{num_iter} iterations, final MSE {loss}')\n",
    "    return delta"
   ]
  },
  {
   "cell_type": "code",
   "execution_count": null,
   "metadata": {
    "id": "NXDYzvgfVeqa"
   },
   "outputs": [],
   "source": [
    "# Helper for pgd_linf\n",
    "@tf.function\n",
    "def onestep_pgd_linf(model, X, y, epsilon, alpha, delta):\n",
    "    with tf.GradientTape() as tape:\n",
    "        tape.watch(delta)\n",
    "        loss = tf.keras.losses.SparseCategoricalCrossentropy(\n",
    "            from_logits=True,\n",
    "            reduction=tf.keras.losses.Reduction.NONE\n",
    "        )(y, model(X + delta))\n",
    "\n",
    "    delta = tf.clip_by_value(delta + alpha*tf.sign(tape.gradient(loss, delta)), X-epsilon, X+epsilon)\n",
    "    \n",
    "    return delta\n",
    "\n",
    "# Full run – import this \n",
    "def pgd_linf(model, X, y, epsilon, alpha, num_iter):\n",
    "    \"\"\" Construct FGSM adversarial examples on the examples X\"\"\"\n",
    "    delta = tf.zeros_like(X)\n",
    "    for t in range(num_iter):\n",
    "        delta = onestep_pgd_linf(model, X, y, epsilon, alpha, delta)\n",
    "    return delta"
   ]
  },
  {
   "cell_type": "code",
   "execution_count": null,
   "metadata": {
    "id": "J0Qby-oZyX9h"
   },
   "outputs": [],
   "source": [
    "@tf.function\n",
    "def fgsm_attack(model, X, y, epsilon=0.1):\n",
    "    delta = tf.zeros_like(X)\n",
    "    \n",
    "    # use GradientTape to perform autodiff\n",
    "    with tf.GradientTape() as tape:\n",
    "        # specifically 'watch' delta\n",
    "        # see here: https://www.tensorflow.org/guide/autodiff\n",
    "        tape.watch(delta)\n",
    "        loss = tf.keras.losses.SparseCategoricalCrossentropy(\n",
    "            from_logits=True,\n",
    "            reduction=tf.keras.losses.Reduction.NONE\n",
    "        )(y, model(X + delta))\n",
    "    delta = tf.sign(tape.gradient(loss, delta)) * epsilon\n",
    "    return delta"
   ]
  },
  {
   "cell_type": "code",
   "execution_count": null,
   "metadata": {
    "id": "ume_UCFHgoGE"
   },
   "outputs": [],
   "source": [
    "def run_adversarial_attack(model, X_valid, y_valid , attack, attack_params=None, **kwargs):\n",
    "    \"\"\"Runs only the adversarial attack on a trained model. \n",
    "    \n",
    "    Differs from standard training by skipping the gradient updates which can be highly costly. Can be\n",
    "    demonstrated from training model in standard way and then applying\"\"\"\n",
    "    # Convert function to tf function\n",
    "    attack_fn = tf.function(attack)\n",
    "\n",
    "    t = time.time()\n",
    "    test_losses = []\n",
    "    test_accs = []\n",
    "    for i in range(len(X_valid)):\n",
    "        Xtest = X_valid[i]\n",
    "        ytest = y_valid[i]\n",
    "\n",
    "        # Run attack perturbation\n",
    "        if attack_params is not None:\n",
    "            delta = attack_fn(model, Xtest, ytest, **attack_params)\n",
    "        else:\n",
    "            delta = attack_fn(model, Xtest, ytest, **kwargs)\n",
    "\n",
    "        Xdtest = Xtest + delta\n",
    "        l, acc = model.test_on_batch(Xdtest, ytest)\n",
    "        test_losses.append(l)\n",
    "        test_accs.append(acc)\n",
    "    \n",
    "    test_loss = sum(test_losses) / len(test_losses)\n",
    "    test_acc = sum(test_accs) / len(test_accs)\n",
    "    print(f\"Time: {(time.time()-t):0.2f} Test Loss: {test_loss:0.2f}, Test Acc: {test_acc:0.2f}\")"
   ]
  },
  {
   "cell_type": "code",
   "execution_count": null,
   "metadata": {
    "id": "U7BcIJIh0fn0"
   },
   "outputs": [],
   "source": [
    "def standard_training(model, train_ds, test_ds, attack=None, epochs=5, verbose=True, **kwargs):\n",
    "    \"\"\"Runs the \"standard\" training loop described in Ilyas et al. (2019)\n",
    "    \n",
    "    Standard training includes non-adversarial training during each training step. Includes\n",
    "    optional adversarial attacks at test time described by the `attack` argument\n",
    "    \n",
    "    Args:\n",
    "        - model (TFModel): A compiled TF / Keras model\n",
    "        - train_ds (TFData): a tensorflow data object for the training data\n",
    "        - test_ds (TFData): a tensorflow data object for the test data \n",
    "        - attack (function): an attack function (i.e. PGD L2) to perturb\n",
    "                test data if evaluating adversarial performance. Default : None\n",
    "        - epochs (int): number of epochs to run training. Default: 5.\n",
    "        - verbose (bool): Report results after each epoch. Otherwise\n",
    "                will return the train / test accuracies at the end of training. \n",
    "                Default: True\"\"\"\n",
    "\n",
    "    for n in range(epochs):\n",
    "    \n",
    "        t = time.time()\n",
    "        train_losses = []\n",
    "        train_accs = []\n",
    "        for b in train_ds:\n",
    "            X, y = b\n",
    "\n",
    "            l, acc = model.train_on_batch(X, y)\n",
    "            train_losses.append(l)\n",
    "            train_accs.append(acc)\n",
    "\n",
    "        test_losses = []\n",
    "        test_accs = []\n",
    "        for vb in test_ds:\n",
    "            Xtest, ytest = vb\n",
    "            \n",
    "            # When attack is specified (ie not None), apply\n",
    "            # attack at test time; do not apply in training due to\n",
    "            # 'standard_training' definition\n",
    "            if attack is not None:\n",
    "                delta = attack(model, Xtest, ytest, **kwargs)\n",
    "                Xdtest = Xtest + delta\n",
    "            else:\n",
    "                Xdtest = Xtest\n",
    "            \n",
    "            l, acc = model.test_on_batch(Xdtest, ytest)\n",
    "            test_losses.append(l)\n",
    "            test_accs.append(acc)\n",
    "        \n",
    "        train_loss = sum(train_losses) / len(train_losses)\n",
    "        train_acc = sum(train_accs) / len(train_accs)\n",
    "        \n",
    "        test_loss = sum(test_losses) / len(test_losses)\n",
    "        test_acc = sum(test_accs) / len(test_accs)\n",
    "        \n",
    "        if verbose:\n",
    "            print(f\"Epoch {n}/{epochs}, Time: {(time.time()-t):0.2f} -- Train Loss: {train_loss:0.2f}, \\\n",
    "                Train Acc: {train_acc:0.2f}, Test Loss: {test_loss:0.2f}, Test Acc: {test_acc:0.2f}\")\n",
    "    \n",
    "    # Return final train and test losses\n",
    "    if verbose == False:\n",
    "        return {'train_loss': train_loss, 'train_acc': train_acc, 'test_loss': test_loss, 'test_acc': test_acc}"
   ]
  },
  {
   "cell_type": "code",
   "execution_count": null,
   "metadata": {
    "id": "YSolWemo_6la"
   },
   "outputs": [],
   "source": [
    "def adversarial_training(model, train_ds, test_ds, train_attack=pgd_l2_adv, test_attack=None, epochs=5, verbose=True, test_kwargs=None, **kwargs):\n",
    "    \"\"\"Runs the \"adversarial\" training loop described in Ilyas et al. (2019)\n",
    "    \n",
    "    Adversarial training allows for two separate attacks, one during training and a separate one during\n",
    "    test. Note that if 'train_attack' is set to None, then this becomes standard training.\n",
    "    \n",
    "    Args:\n",
    "        - model (TFModel): A compiled TF / Keras model\n",
    "        - train_ds (TFData): a tensorflow data object for the training data\n",
    "        - test_ds (TFData): a tensorflow data object for the test data \n",
    "        - attack (function): an attack function (i.e. PGD L2) to perturb\n",
    "                test data if evaluating adversarial performance. Default : None\n",
    "        - epochs (int): number of epochs to run training. Default: 5.\n",
    "        - verbose (bool): Report results after each epoch. Otherwise\n",
    "                will return the train / test accuracies at the end of training. \n",
    "                Default: True\"\"\"\n",
    "\n",
    "    # Create train and test functions wrapped\n",
    "    if train_attack is not None:\n",
    "      train_attack_tf = tf.function(train_attack)\n",
    "    if test_attack is not None:\n",
    "      test_attack_tf = tf.function(test_attack)\n",
    "\n",
    "    for n in range(epochs):\n",
    "    \n",
    "        t = time.time()\n",
    "        train_losses = []\n",
    "        train_accs = []\n",
    "        for b in train_ds:\n",
    "            X, y = b\n",
    "\n",
    "            # Create adversarially perturbed training data\n",
    "            if train_attack is not None:\n",
    "                delta = train_attack_tf(model, X, y, **kwargs)\n",
    "                Xd = X + delta\n",
    "            else:\n",
    "                Xd = X  \n",
    "            # Train model on adversarially perturbed data\n",
    "            l, acc = model.train_on_batch(Xd, y)\n",
    "            train_losses.append(l)\n",
    "            train_accs.append(acc)\n",
    "\n",
    "        test_losses = []\n",
    "        test_accs = []\n",
    "        for vb in test_ds:\n",
    "            Xtest, ytest = vb\n",
    "            \n",
    "            # When attack is specified (ie not None), apply\n",
    "            # attack at test time; do not apply in training due to\n",
    "            # 'standard_training' definition\n",
    "            if test_attack is not None:\n",
    "                if isinstance(test_kwargs, dict):\n",
    "                    delta = test_attack_tf(model, Xtest, ytest, **test_kwargs)\n",
    "                else:\n",
    "                    delta = test_attack_tf(model, Xtest, ytest)\n",
    "                Xdtest = Xtest + delta\n",
    "            else:\n",
    "                # when test_attack is not specified \n",
    "                Xdtest = Xtest\n",
    "            \n",
    "            l, acc = model.test_on_batch(Xdtest, ytest)\n",
    "            test_losses.append(l)\n",
    "            test_accs.append(acc)\n",
    "        \n",
    "        train_loss = sum(train_losses) / len(train_losses)\n",
    "        train_acc = sum(train_accs) / len(train_accs)\n",
    "        \n",
    "        test_loss = sum(test_losses) / len(test_losses)\n",
    "        test_acc = sum(test_accs) / len(test_accs)\n",
    "        \n",
    "        if verbose:\n",
    "            print(f\"Epoch {n}/{epochs}, Time: {(time.time()-t):0.2f} -- Train Loss: {train_loss:0.2f}, \\\n",
    "                Train Acc: {train_acc:0.2f}, Test Loss: {test_loss:0.2f}, Test Acc: {test_acc:0.2f}\")\n",
    "    \n",
    "    # Return final train and test losses\n",
    "    if verbose == False:\n",
    "        return {'train_loss': train_loss, 'train_acc': train_acc, 'test_loss': test_loss, 'test_acc': test_acc}"
   ]
  },
  {
   "cell_type": "code",
   "execution_count": null,
   "metadata": {
    "id": "0P6Iy5fhF2Nq"
   },
   "outputs": [],
   "source": [
    "def single_pgd_step_robust(model, X, y, alpha, delta):\n",
    "    with tf.GradientTape() as tape:\n",
    "        tape.watch(delta)\n",
    "        loss = tf.keras.losses.MeanSquaredError(\n",
    "            reduction=tf.keras.losses.Reduction.NONE\n",
    "        )(y, model(X + delta)) # comparing to robust model representation layer\n",
    "        \n",
    "    grad = tape.gradient(loss, delta)\n",
    "    normgrad = tf.reshape(norm(grad), (-1, 1, 1, 1))\n",
    "    delta -= alpha*grad / (normgrad + 1e-10) # normalized gradient step\n",
    "    delta = tf.math.minimum(tf.math.maximum(delta, -X), 1-X) # clip X+delta to [0,1]\n",
    "    return delta, loss\n",
    "\n",
    "def pgd_l2_robust(model, X, y, alpha, num_iter, epsilon=0, example=False):\n",
    "    delta = tf.zeros_like(X)\n",
    "    loss = 0\n",
    "    fn = tf.function(single_pgd_step_robust)\n",
    "    for t in range(num_iter):\n",
    "      delta, loss = fn(model, X, y, alpha, delta)\n",
    "    # Prints out loss to evaluate if it's actually learning (currently broken)\n",
    "    if example:\n",
    "        print(f'{num_iter} iterations, final MSE {loss}')\n",
    "    return delta"
   ]
  },
  {
   "cell_type": "code",
   "execution_count": null,
   "metadata": {
    "id": "wK5ikzUr5zyk"
   },
   "outputs": [],
   "source": [
    "def single_pgd_step_nonrobust(model, X, y, alpha, epsilon, delta):\n",
    "    with tf.GradientTape() as tape:\n",
    "        tape.watch(delta)\n",
    "        loss = tf.keras.losses.SparseCategoricalCrossentropy(\n",
    "            from_logits=True,\n",
    "            reduction=tf.keras.losses.Reduction.NONE # Use no aggregation - will give gradient separtely for each ex.\n",
    "            )(y, model(X + delta)) # comparing to label for original data point\n",
    "    grad = tape.gradient(loss, delta) #tape.gradient(loss, delta)\n",
    "\n",
    "    # equivalent to delta += alpha*grad / norm(grad), just for batching\n",
    "    normgrad = tf.reshape(norm(grad), (-1, 1, 1, 1))\n",
    "    # changed from plus to minus b/c trying to minimize with non-robust\n",
    "    z = delta - alpha * (grad / (normgrad + 1e-10))\n",
    "    normz = tf.reshape(norm(z), (-1, 1, 1, 1))\n",
    "    delta = epsilon * z / (tf.math.maximum(normz, epsilon) + 1e-10)\n",
    "    return delta, loss\n",
    "\n",
    "def pgd_l2_nonrobust(model, X, y, alpha, num_iter, epsilon=0, example=False):\n",
    "    fn = tf.function(single_pgd_step_nonrobust)\n",
    "    delta = tf.zeros_like(X)\n",
    "    loss = 0\n",
    "    for t in range(num_iter):\n",
    "        delta, loss = fn(model, X, y, alpha, epsilon, delta)\n",
    "        \n",
    "    if example:\n",
    "        print(f'{num_iter} iterations, final MSE {loss}')\n",
    "    return delta"
   ]
  },
  {
   "cell_type": "code",
   "execution_count": null,
   "metadata": {
    "id": "dK6HuO_KDDPa"
   },
   "outputs": [],
   "source": [
    "for i, ex in enumerate(train_ds):\n",
    "  X, y = ex\n",
    "  epsilon = 0.5\n",
    "  delta = pgd_l2_adv(mod, X, y, epsilon=epsilon, alpha=epsilon / 5, num_iter=7)\n",
    "  Xd = X + delta\n",
    "  delta_grad = delta\n",
    "  if i > 2:\n",
    "    break\n"
   ]
  },
  {
   "cell_type": "code",
   "execution_count": null,
   "metadata": {
    "id": "noSO8p2eFRRX"
   },
   "outputs": [],
   "source": [
    "# Show the original image, the adversarial image, and the difference\n",
    "n = 3\n",
    "t = (X[n]).numpy()\n",
    "td = (Xd[n]).numpy()\n",
    "delta_d = (delta[n]).numpy()+0.5 # Added 0.5 to show differences\n",
    "\n",
    "fig, axs = plt.subplots(1, 3, figsize=(18,6))\n",
    "axs = axs.flatten()\n",
    "axs[0].imshow(t)\n",
    "axs[1].imshow(td)\n",
    "axs[2].imshow(delta_d)\n",
    "plt.show()"
   ]
  },
  {
   "cell_type": "code",
   "execution_count": null,
   "metadata": {
    "id": "Z3Cl8_EhFTle"
   },
   "outputs": [],
   "source": [
    "# Compile ResNet via Adam\n",
    "boundaries = [15000, 20000]\n",
    "values = [0.1, 0.01, 1e-3]\n",
    "learning_rate_fn = tf.keras.optimizers.schedules.PiecewiseConstantDecay(\n",
    "    boundaries, values)\n",
    "\n",
    "tf.keras.backend.clear_session()\n",
    "std_training = ResNet56(3, 16, l2=2e-4)\n",
    "std_training.compile(\n",
    "    loss=tf.keras.losses.SparseCategoricalCrossentropy(from_logits=True), \n",
    "    #optimizer = tf.keras.optimizers.Adam(),\n",
    "    optimizer = tf.keras.optimizers.SGD(learning_rate=learning_rate_fn, \n",
    "                                       momentum=0.9),\n",
    "    metrics=['accuracy']\n",
    ")"
   ]
  },
  {
   "cell_type": "code",
   "execution_count": null,
   "metadata": {
    "id": "ladNN7dhEq5s"
   },
   "outputs": [],
   "source": [
    "standard_training(std_training, train_ds, test_ds, attack=None , epochs=25000 // 391)"
   ]
  },
  {
   "cell_type": "code",
   "execution_count": null,
   "metadata": {
    "id": "F9xvNfAvVu7Y"
   },
   "outputs": [],
   "source": [
    "# Save the model\n",
    "std_training.save('drive/MyDrive/AM207_Final_Project/models/standard_training_resnet9_16')"
   ]
  },
  {
   "cell_type": "code",
   "execution_count": null,
   "metadata": {
    "id": "UlPvtnEvWhtJ"
   },
   "outputs": [],
   "source": [
    "std_training = tf.keras.models.load_model('drive/MyDrive/AM207_Final_Project/models/standard_training_resnet9_16')"
   ]
  },
  {
   "cell_type": "code",
   "execution_count": null,
   "metadata": {
    "id": "m3j82AV1Z1ur"
   },
   "outputs": [],
   "source": [
    "run_adversarial_attack(model, X_valid, y_valid, attack=pgd_l2_adv, attack_params={'epsilon':0.25, 'num_iter':7, 'alpha':0.5/5})"
   ]
  },
  {
   "cell_type": "code",
   "execution_count": null,
   "metadata": {
    "id": "_FhJ1gnBZ-ET"
   },
   "outputs": [],
   "source": [
    "# PGD L-infinity attack\n",
    "run_adversarial_attack(std_training, test_ds, attack=pgd_linf, attack_params={'epsilon':0.25, 'num_iter':7, 'alpha':0.5/5}) # {'epsilon':0.5, 'num_iter':7,"
   ]
  },
  {
   "cell_type": "code",
   "execution_count": null,
   "metadata": {
    "id": "B7Jzj61eaAyA"
   },
   "outputs": [],
   "source": [
    "# FGSM attack\n",
    "run_adversarial_attack(std_training, test_ds, attack=fgsm_attack, attack_params={'epsilon':0.25})"
   ]
  },
  {
   "cell_type": "code",
   "execution_count": null,
   "metadata": {
    "id": "gVDowVFZaK-0"
   },
   "outputs": [],
   "source": [
    "tf.keras.backend.clear_session()\n",
    "adv_training = ResNet56(3, 16, l2=2e-4)\n",
    "adv_training.compile(\n",
    "    loss=tf.keras.losses.SparseCategoricalCrossentropy(from_logits=True), \n",
    "    optimizer = tf.keras.optimizers.SGD(learning_rate=learning_rate_fn, \n",
    "                                       momentum=0.9),\n",
    "    metrics=['accuracy']\n",
    ")\n",
    "\n"
   ]
  },
  {
   "cell_type": "code",
   "execution_count": null,
   "metadata": {
    "id": "IkJfffJQH5Vi"
   },
   "outputs": [],
   "source": [
    "adv_training1.summary()"
   ]
  },
  {
   "cell_type": "code",
   "execution_count": null,
   "metadata": {
    "id": "6Xty7lU35tNc"
   },
   "outputs": [],
   "source": [
    "adversarial_training(adv_training, train_ds, test_ds, train_attack=pgd_l2_adv, epsilon=0.5, num_iter=7, alpha=0.5 / 5, epochs=25000 // 391)"
   ]
  },
  {
   "cell_type": "code",
   "execution_count": null,
   "metadata": {
    "id": "gqxkdugfaXZG"
   },
   "outputs": [],
   "source": [
    "adv_training.save('drive/MyDrive/AM207_Final_Project/models/adv_training1_resnet9_16')"
   ]
  },
  {
   "cell_type": "code",
   "execution_count": null,
   "metadata": {
    "id": "TeFTnTSXEuNQ"
   },
   "outputs": [],
   "source": [
    "# Load the model\n",
    "adv_training = tf.keras.models.load_model('drive/MyDrive/AM207_Final_Project/models/adv_training1_resnet9_16')"
   ]
  },
  {
   "cell_type": "code",
   "execution_count": null,
   "metadata": {
    "id": "7goKnPdWIF5t"
   },
   "outputs": [],
   "source": [
    "adv_training.summary()"
   ]
  },
  {
   "cell_type": "code",
   "execution_count": null,
   "metadata": {
    "id": "-YoNoNcfEw5a"
   },
   "outputs": [],
   "source": [
    "# PGD L2 attack\n",
    "run_adversarial_attack(adv_training, test_ds, attack=pgd_l2_adv, attack_params={'epsilon':0.25, 'num_iter':7, 'alpha':0.5/5})"
   ]
  },
  {
   "cell_type": "code",
   "execution_count": null,
   "metadata": {
    "id": "icZRvGfzEyyn"
   },
   "outputs": [],
   "source": [
    "# PGD L-infinity attack\n",
    "run_adversarial_attack(adv_training, test_ds, attack=pgd_linf, attack_params={'epsilon':0.25, 'num_iter':7, 'alpha':0.5/5})"
   ]
  },
  {
   "cell_type": "code",
   "execution_count": null,
   "metadata": {
    "id": "kXbYUUYnE0kM"
   },
   "outputs": [],
   "source": [
    "# FGSM attack\n",
    "run_adversarial_attack(adv_training, test_ds, attack=fgsm_attack, attack_params={'epsilon':0.25})"
   ]
  },
  {
   "cell_type": "markdown",
   "metadata": {
    "id": "6E94vjVRE225"
   },
   "source": [
    "(3) Robust Features\n",
    "Create Robustifier"
   ]
  },
  {
   "cell_type": "code",
   "execution_count": null,
   "metadata": {
    "id": "BZa800_iMddp"
   },
   "outputs": [],
   "source": [
    "representation = adv_training.layers[-2]\n",
    "representation.output"
   ]
  },
  {
   "cell_type": "code",
   "execution_count": null,
   "metadata": {
    "id": "qVXbDhjQE3ui"
   },
   "outputs": [],
   "source": [
    "# Create the robustifier model \n",
    "# (which is the adversarially trained model without the last layer)\n",
    "adv_training.summary()\n",
    "representation = adv_training.layers[-2]\n",
    "robustifier = tf.keras.Model(inputs = adv_training.layers[0].input, outputs = representation.output)\n",
    "robustifier.summary()"
   ]
  },
  {
   "cell_type": "code",
   "execution_count": null,
   "metadata": {
    "id": "62I0JgA7W0VX"
   },
   "outputs": [],
   "source": [
    "robustifier.summary()"
   ]
  },
  {
   "cell_type": "code",
   "execution_count": null,
   "metadata": {
    "id": "yJvXY7ByNQZV"
   },
   "outputs": [],
   "source": [
    "# Save the robustifier model\n",
    "robustifier.save('drive/MyDrive/AM207_Final_Project/models/robustifier1_resnet9_16')"
   ]
  },
  {
   "cell_type": "code",
   "execution_count": null,
   "metadata": {
    "id": "ccnpYRD4vSNt"
   },
   "outputs": [],
   "source": [
    "robustifier = tf.keras.models.load_model('drive/MyDrive/AM207_Final_Project/models/robustifier1_resnet9_16')"
   ]
  },
  {
   "cell_type": "markdown",
   "metadata": {
    "id": "EKc4aEMqNXxz"
   },
   "source": [
    "Create Robust Dataset"
   ]
  },
  {
   "cell_type": "code",
   "execution_count": null,
   "metadata": {
    "id": "fly_ry0cNYRU"
   },
   "outputs": [],
   "source": [
    "%%time\n",
    "def robustify(robust_mod, train_ds, iters=1000, alpha=0.1, batch_size=BATCH_SIZE):\n",
    "  robust_train = []\n",
    "  orig_labels = []\n",
    "  example = False\n",
    "\n",
    "  train_to_pull = list(iter(train_ds))\n",
    "  start_rn = np.random.randint(0, len(train_ds))\n",
    "  rand_batch = train_to_pull[start_rn][0]\n",
    "\n",
    "  start_time = time.time()\n",
    "  for i, (img_batch, label_batch) in enumerate(train_ds):\n",
    "      inter_time = time.time()  \n",
    "\n",
    "      # For the last batch, it is smaller than batch_size and thus we match the size for the batch of initial images\n",
    "      if img_batch.shape[0] < batch_size:\n",
    "        rand_batch = rand_batch[:img_batch.shape[0]]\n",
    "\n",
    "      # Get the goal representation\n",
    "      goal_representation = robust_mod(img_batch)\n",
    "      \n",
    "      # Upate the batch of images\n",
    "      learned_delta = pgd_l2_robust(robust_mod, rand_batch, goal_representation, alpha=alpha, num_iter=iters)\n",
    "      robust_update = (rand_batch + learned_delta)\n",
    "\n",
    "      # Add the updated images and labels to their respective lists\n",
    "      robust_train.append(robust_update)\n",
    "      orig_labels.append(label_batch)\n",
    "      \n",
    "      # Measure the time\n",
    "      if (i+1) % 10 == 0:\n",
    "        elapsed = time.time() - start_time\n",
    "        elapsed_tracking = time.time() - inter_time\n",
    "        print(f'Robustified {(i+1)*batch_size} images in {elapsed:0.3f} seconds; Took {elapsed_tracking:0.3f} seconds for this particular iteration')    \n",
    "      \n",
    "      # Reset random image batch\n",
    "      rn = np.random.randint(0, len(train_ds)-1) # -1 because last batch might be smaller\n",
    "      rand_batch = train_to_pull[rn][0]\n",
    "\n",
    "  return robust_train, orig_labels\n",
    "\n",
    "robust_train, orig_labels = robustify(robustifier, train_ds, iters=1000, alpha=0.1)\n",
    "\n",
    "# Print out the shapes\n",
    "print(tf.concat(robust_train, axis=0).shape)\n",
    "print(tf.concat(orig_labels, axis=0).shape)"
   ]
  },
  {
   "cell_type": "code",
   "execution_count": null,
   "metadata": {
    "id": "XMAX_RKGh4sb"
   },
   "outputs": [],
   "source": [
    "def robust_preprocess(img, label):\n",
    "  \"\"\"Defines preprocessing / data augmentation for robust & nonrobust features\"\"\"\n",
    "  img = tf.image.resize_with_pad(img, 32+4, 32+4)\n",
    "  img = tf.image.random_crop(img, size=[32, 32, 3])\n",
    "  img = tf.image.stateless_random_flip_left_right(img, (15, 13)) \n",
    "  return img, label"
   ]
  },
  {
   "cell_type": "code",
   "execution_count": null,
   "metadata": {
    "id": "7Bl2-02ah8I3"
   },
   "outputs": [],
   "source": [
    "# Convert to TensorFlow Dataset\n",
    "robust_ds = tf.data.Dataset.from_tensor_slices((tf.concat(robust_train, axis=0), tf.concat(orig_labels, axis=0))).prefetch(AUTOTUNE).map(robust_preprocess, \n",
    "                                                                                                                                         num_parallel_calls=AUTOTUNE).shuffle(\n",
    "                                                                                                                                             len(robust_train)).batch(BATCH_SIZE)"
   ]
  },
  {
   "cell_type": "markdown",
   "metadata": {
    "id": "DP0ma2keiCi8"
   },
   "source": [
    "Save/Load Dataset"
   ]
  },
  {
   "cell_type": "code",
   "execution_count": null,
   "metadata": {
    "id": "7Z1F9gE2ElC6"
   },
   "outputs": [],
   "source": [
    "# Save the tensorflow datasets\n",
    "tf.data.experimental.save(robust_ds, 'drive/MyDrive/AM207_Final_Project/resnet9_robust_ds')\n",
    "# Load the tensorflow datasets\n",
    "robust_ds_new = tf.data.experimental.load('drive/MyDrive/AM207_Final_Project/resnet9_robust_ds')"
   ]
  },
  {
   "cell_type": "code",
   "execution_count": null,
   "metadata": {
    "id": "D1lywGnnXqjq"
   },
   "outputs": [],
   "source": [
    "len(robust_ds)"
   ]
  },
  {
   "cell_type": "markdown",
   "metadata": {
    "id": "qblEDk9lWjvT"
   },
   "source": [
    "Standard testing RObust"
   ]
  },
  {
   "cell_type": "code",
   "execution_count": null,
   "metadata": {
    "id": "0bBfWD_xWiQY"
   },
   "outputs": [],
   "source": [
    "learning_rate_fn = tf.keras.optimizers.schedules.PiecewiseConstantDecay(\n",
    "    [15000, 20000], [0.1, 0.01, 1e-3])\n",
    "\n",
    "robust_training = ResNet56(3, 16, l2=2e-4)\n",
    "robust_training.compile(\n",
    "    loss=tf.keras.losses.SparseCategoricalCrossentropy(from_logits=True), \n",
    "    optimizer = tf.keras.optimizers.SGD(learning_rate=learning_rate_fn, \n",
    "                                      momentum=0.9),\n",
    "    #optimizer = tf.keras.optimizers.Adam(),\n",
    "    metrics=['accuracy'],\n",
    ")"
   ]
  },
  {
   "cell_type": "code",
   "execution_count": null,
   "metadata": {
    "id": "rdmnFfPPWovN"
   },
   "outputs": [],
   "source": [
    "# Train the model on the non-robust dataset\n",
    "standard_training(robust_training, robust_ds, test_ds, attack=None, epochs=25000 // 391)"
   ]
  },
  {
   "cell_type": "markdown",
   "metadata": {
    "id": "kb8HqPvMcpw7"
   },
   "source": []
  },
  {
   "cell_type": "code",
   "execution_count": null,
   "metadata": {
    "id": "gLw_54Kxcq8H"
   },
   "outputs": [],
   "source": [
    "# Save the model\n",
    "robust_training.save('drive/MyDrive/AM207_Final_Project/models/robust_training_resnet9_16')"
   ]
  },
  {
   "cell_type": "code",
   "execution_count": null,
   "metadata": {
    "id": "YdjVvrpycmhc"
   },
   "outputs": [],
   "source": [
    "# PGD L2 attack\n",
    "run_adversarial_attack(robust_training, test_ds, attack=pgd_l2_adv, attack_params={'epsilon':0.25, 'num_iter':7, 'alpha':0.25/5})"
   ]
  },
  {
   "cell_type": "code",
   "execution_count": null,
   "metadata": {
    "id": "pedZeGgZcvJA"
   },
   "outputs": [],
   "source": [
    "# PGD L-infinity attack\n",
    "run_adversarial_attack(robust_training, test_ds, attack=pgd_linf, attack_params={'epsilon':0.25, 'num_iter':7, 'alpha':0.5/5}) # {'epsilon':0.5, 'num_iter':7, 'a"
   ]
  },
  {
   "cell_type": "code",
   "execution_count": null,
   "metadata": {
    "id": "DZp0qRpfcwyN"
   },
   "outputs": [],
   "source": [
    "# FGSM attack\n",
    "run_adversarial_attack(robust_training, test_ds, attack=fgsm_attack, attack_params={'epsilon':0.25})"
   ]
  },
  {
   "cell_type": "markdown",
   "metadata": {
    "id": "KGH6Q43Ac80y"
   },
   "source": [
    "(4) Non-Robust Features\n",
    "\n",
    "Create Non-Robust Dataset"
   ]
  },
  {
   "cell_type": "code",
   "execution_count": null,
   "metadata": {
    "id": "8UcgHvwlc-4w"
   },
   "outputs": [],
   "source": [
    "original_train = []\n",
    "non_robust_train = []\n",
    "t_train = [] \n",
    "y_train = []\n",
    "iters = 100\n",
    "\n",
    "\n",
    "start_time = time.time()\n",
    "# Loops through entire train dataset image-by-image\n",
    "for i, (img_batch, label_batch) in enumerate(train_ds): # Unbatch splits batches into individual images\n",
    "    inter_time = time.time()  \n",
    "\n",
    "    # Create a copy of the tensor\n",
    "    img_batch_t = tf.identity(img_batch)\n",
    "\n",
    "    # Generate a random label, get the delta and add in the perturbation (random uniform approach)\n",
    "    t_batch = np.random.randint(low=0, high=9, size=img_batch_t.shape[0]) # t_batch = (label_batch + 1) % 10   <-- deterministic approach\n",
    "    \n",
    "    # Update the image so that it is non-robust\n",
    "    learned_delta = pgd_l2_nonrobust(std_training, img_batch_t, t_batch, epsilon=0.5, alpha=0.1, num_iter=iters)\n",
    "    non_robust_update = img_batch_t + learned_delta\n",
    "\n",
    "    # Append both the original and non-robust images and labels to the respective lists\n",
    "    original_train.append(img_batch)\n",
    "    y_train.append(label_batch)\n",
    "    non_robust_train.append(non_robust_update)\n",
    "    t_train.append(t_batch)\n",
    "    \n",
    "    if (i+1) % 10 == 0:\n",
    "        elapsed = time.time() - start_time\n",
    "        elapsed_tracking = time.process_time() - inter_time\n",
    "        print(f'Unrobustified {(i+1)*BATCH_SIZE} images in {elapsed:0.3f} seconds; Took {elapsed_tracking:0.3f} seconds for this particular iteration')\n",
    "\n",
    "# Print out the shapes\n",
    "print(tf.concat(non_robust_train, axis=0).shape)\n",
    "print(tf.concat(t_train, axis=0).shape)\n",
    "\n",
    "# Convert to to Tensorflow dataset\n",
    "non_robust_ds = tf.data.Dataset.from_tensor_slices((tf.concat(non_robust_train, axis=0), \n",
    "                                                    tf.concat(t_train, axis=0))).prefetch(AUTOTUNE).map(robust_preprocess, \n",
    "                                                                                                        num_parallel_calls=AUTOTUNE).shuffle(len(non_robust_train)).batch(BATCH_SIZE)\n",
    "\n",
    "\n",
    "original_non_robust_ds = tf.data.Dataset.from_tensor_slices((tf.concat(original_train, axis=0), \n",
    "                                                             tf.concat(y_train, axis=0))).prefetch(AUTOTUNE).batch(BATCH_SIZE)"
   ]
  }
 ],
 "metadata": {
  "accelerator": "GPU",
  "colab": {
   "authorship_tag": "ABX9TyMBEPvBZIv5KxCkLWtJlgOh",
   "collapsed_sections": [],
   "name": "Adv_test.ipynb",
   "private_outputs": true,
   "provenance": []
  },
  "kernelspec": {
   "display_name": "Python 3 (ipykernel)",
   "language": "python",
   "name": "python3"
  },
  "language_info": {
   "codemirror_mode": {
    "name": "ipython",
    "version": 3
   },
   "file_extension": ".py",
   "mimetype": "text/x-python",
   "name": "python",
   "nbconvert_exporter": "python",
   "pygments_lexer": "ipython3",
   "version": "3.10.4"
  }
 },
 "nbformat": 4,
 "nbformat_minor": 1
}
